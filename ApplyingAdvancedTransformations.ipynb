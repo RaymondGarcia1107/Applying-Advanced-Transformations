{
 "cells": [
  {
   "cell_type": "markdown",
   "id": "dad5a7c3-6dc1-4ed0-b97a-520ac45591bf",
   "metadata": {},
   "source": [
    "# Importing Libraries"
   ]
  },
  {
   "cell_type": "code",
   "execution_count": 1,
   "id": "e73a46b3-5471-4ca6-96db-6c1fb3f40b1c",
   "metadata": {},
   "outputs": [],
   "source": [
    "import pandas as pd\n",
    "import json, os\n",
    "import numpy as np"
   ]
  },
  {
   "cell_type": "markdown",
   "id": "53776be2-4354-4a62-b029-66e20408c0c8",
   "metadata": {},
   "source": [
    "This file is going to take two CSV's from the Superheroes dataset from Kaggle and clean and transform the data into one file"
   ]
  },
  {
   "cell_type": "code",
   "execution_count": 2,
   "id": "4431d511-74d6-4766-8338-2bed9c3f2643",
   "metadata": {},
   "outputs": [],
   "source": [
    "info = 'https://docs.google.com/spreadsheets/d/e/2PACX-1vS1ZstYLwFgwhZnqDsPjtnlHYhJp_cmW55J8JD5mym0seRsaem3px7QBtuFF0LiI7z1PLCkVKAkdO7J/pub?output=csv'\n",
    "powers = 'https://docs.google.com/spreadsheets/d/e/2PACX-1vSzdWOBaXOoz52vPmCFV5idNlDBohLY1Lsbc1IfZIZQ7cV_aNB2wYBfhF49uE1TaO1B5MQCGWiNrFfd/pub?output=csv'\n",
    "\n",
    "dfinfo = pd.read_csv(info)\n",
    "dfpowers = pd.read_csv(powers)"
   ]
  },
  {
   "cell_type": "code",
   "execution_count": 3,
   "id": "7805f23f-002a-48b3-96c3-2e5c59a40909",
   "metadata": {},
   "outputs": [
    {
     "data": {
      "text/html": [
       "<div>\n",
       "<style scoped>\n",
       "    .dataframe tbody tr th:only-of-type {\n",
       "        vertical-align: middle;\n",
       "    }\n",
       "\n",
       "    .dataframe tbody tr th {\n",
       "        vertical-align: top;\n",
       "    }\n",
       "\n",
       "    .dataframe thead th {\n",
       "        text-align: right;\n",
       "    }\n",
       "</style>\n",
       "<table border=\"1\" class=\"dataframe\">\n",
       "  <thead>\n",
       "    <tr style=\"text-align: right;\">\n",
       "      <th></th>\n",
       "      <th>Hero|Publisher</th>\n",
       "      <th>Gender</th>\n",
       "      <th>Race</th>\n",
       "      <th>Alignment</th>\n",
       "      <th>Hair color</th>\n",
       "      <th>Eye color</th>\n",
       "      <th>Skin color</th>\n",
       "      <th>Measurements</th>\n",
       "    </tr>\n",
       "  </thead>\n",
       "  <tbody>\n",
       "    <tr>\n",
       "      <th>0</th>\n",
       "      <td>A-Bomb|Marvel Comics</td>\n",
       "      <td>Male</td>\n",
       "      <td>Human</td>\n",
       "      <td>good</td>\n",
       "      <td>No Hair</td>\n",
       "      <td>yellow</td>\n",
       "      <td>Unknown</td>\n",
       "      <td>{'Height': '203.0 cm', 'Weight': '441.0 kg'}</td>\n",
       "    </tr>\n",
       "    <tr>\n",
       "      <th>1</th>\n",
       "      <td>Abe Sapien|Dark Horse Comics</td>\n",
       "      <td>Male</td>\n",
       "      <td>Icthyo Sapien</td>\n",
       "      <td>good</td>\n",
       "      <td>No Hair</td>\n",
       "      <td>blue</td>\n",
       "      <td>blue</td>\n",
       "      <td>{'Height': '191.0 cm', 'Weight': '65.0 kg'}</td>\n",
       "    </tr>\n",
       "    <tr>\n",
       "      <th>2</th>\n",
       "      <td>Abin Sur|DC Comics</td>\n",
       "      <td>Male</td>\n",
       "      <td>Ungaran</td>\n",
       "      <td>good</td>\n",
       "      <td>No Hair</td>\n",
       "      <td>blue</td>\n",
       "      <td>red</td>\n",
       "      <td>{'Height': '185.0 cm', 'Weight': '90.0 kg'}</td>\n",
       "    </tr>\n",
       "    <tr>\n",
       "      <th>3</th>\n",
       "      <td>Abomination|Marvel Comics</td>\n",
       "      <td>Male</td>\n",
       "      <td>Human / Radiation</td>\n",
       "      <td>bad</td>\n",
       "      <td>No Hair</td>\n",
       "      <td>green</td>\n",
       "      <td>Unknown</td>\n",
       "      <td>{'Height': '203.0 cm', 'Weight': '441.0 kg'}</td>\n",
       "    </tr>\n",
       "    <tr>\n",
       "      <th>4</th>\n",
       "      <td>Absorbing Man|Marvel Comics</td>\n",
       "      <td>Male</td>\n",
       "      <td>Human</td>\n",
       "      <td>bad</td>\n",
       "      <td>No Hair</td>\n",
       "      <td>blue</td>\n",
       "      <td>Unknown</td>\n",
       "      <td>{'Height': '193.0 cm', 'Weight': '122.0 kg'}</td>\n",
       "    </tr>\n",
       "  </tbody>\n",
       "</table>\n",
       "</div>"
      ],
      "text/plain": [
       "                 Hero|Publisher Gender               Race Alignment  \\\n",
       "0          A-Bomb|Marvel Comics   Male              Human      good   \n",
       "1  Abe Sapien|Dark Horse Comics   Male      Icthyo Sapien      good   \n",
       "2            Abin Sur|DC Comics   Male            Ungaran      good   \n",
       "3     Abomination|Marvel Comics   Male  Human / Radiation       bad   \n",
       "4   Absorbing Man|Marvel Comics   Male              Human       bad   \n",
       "\n",
       "  Hair color Eye color Skin color  \\\n",
       "0    No Hair    yellow    Unknown   \n",
       "1    No Hair      blue       blue   \n",
       "2    No Hair      blue        red   \n",
       "3    No Hair     green    Unknown   \n",
       "4    No Hair      blue    Unknown   \n",
       "\n",
       "                                   Measurements  \n",
       "0  {'Height': '203.0 cm', 'Weight': '441.0 kg'}  \n",
       "1   {'Height': '191.0 cm', 'Weight': '65.0 kg'}  \n",
       "2   {'Height': '185.0 cm', 'Weight': '90.0 kg'}  \n",
       "3  {'Height': '203.0 cm', 'Weight': '441.0 kg'}  \n",
       "4  {'Height': '193.0 cm', 'Weight': '122.0 kg'}  "
      ]
     },
     "execution_count": 3,
     "metadata": {},
     "output_type": "execute_result"
    }
   ],
   "source": [
    "dfinfo.head()"
   ]
  },
  {
   "cell_type": "code",
   "execution_count": 4,
   "id": "c45a7ebb-4be2-4dd4-b87a-9376a56f896a",
   "metadata": {},
   "outputs": [
    {
     "data": {
      "text/html": [
       "<div>\n",
       "<style scoped>\n",
       "    .dataframe tbody tr th:only-of-type {\n",
       "        vertical-align: middle;\n",
       "    }\n",
       "\n",
       "    .dataframe tbody tr th {\n",
       "        vertical-align: top;\n",
       "    }\n",
       "\n",
       "    .dataframe thead th {\n",
       "        text-align: right;\n",
       "    }\n",
       "</style>\n",
       "<table border=\"1\" class=\"dataframe\">\n",
       "  <thead>\n",
       "    <tr style=\"text-align: right;\">\n",
       "      <th></th>\n",
       "      <th>hero_names</th>\n",
       "      <th>Powers</th>\n",
       "    </tr>\n",
       "  </thead>\n",
       "  <tbody>\n",
       "    <tr>\n",
       "      <th>0</th>\n",
       "      <td>3-D Man</td>\n",
       "      <td>Agility,Super Strength,Stamina,Super Speed</td>\n",
       "    </tr>\n",
       "    <tr>\n",
       "      <th>1</th>\n",
       "      <td>A-Bomb</td>\n",
       "      <td>Accelerated Healing,Durability,Longevity,Super...</td>\n",
       "    </tr>\n",
       "    <tr>\n",
       "      <th>2</th>\n",
       "      <td>Abe Sapien</td>\n",
       "      <td>Agility,Accelerated Healing,Cold Resistance,Du...</td>\n",
       "    </tr>\n",
       "    <tr>\n",
       "      <th>3</th>\n",
       "      <td>Abin Sur</td>\n",
       "      <td>Lantern Power Ring</td>\n",
       "    </tr>\n",
       "    <tr>\n",
       "      <th>4</th>\n",
       "      <td>Abomination</td>\n",
       "      <td>Accelerated Healing,Intelligence,Super Strengt...</td>\n",
       "    </tr>\n",
       "  </tbody>\n",
       "</table>\n",
       "</div>"
      ],
      "text/plain": [
       "    hero_names                                             Powers\n",
       "0      3-D Man         Agility,Super Strength,Stamina,Super Speed\n",
       "1       A-Bomb  Accelerated Healing,Durability,Longevity,Super...\n",
       "2   Abe Sapien  Agility,Accelerated Healing,Cold Resistance,Du...\n",
       "3     Abin Sur                                 Lantern Power Ring\n",
       "4  Abomination  Accelerated Healing,Intelligence,Super Strengt..."
      ]
     },
     "execution_count": 4,
     "metadata": {},
     "output_type": "execute_result"
    }
   ],
   "source": [
    "dfpowers.head()"
   ]
  },
  {
   "cell_type": "code",
   "execution_count": 5,
   "id": "e6a790e2-93b8-4502-85e1-24957ed21939",
   "metadata": {},
   "outputs": [
    {
     "name": "stdout",
     "output_type": "stream",
     "text": [
      "<class 'pandas.core.frame.DataFrame'>\n",
      "RangeIndex: 463 entries, 0 to 462\n",
      "Data columns (total 8 columns):\n",
      " #   Column          Non-Null Count  Dtype \n",
      "---  ------          --------------  ----- \n",
      " 0   Hero|Publisher  463 non-null    object\n",
      " 1   Gender          463 non-null    object\n",
      " 2   Race            463 non-null    object\n",
      " 3   Alignment       463 non-null    object\n",
      " 4   Hair color      463 non-null    object\n",
      " 5   Eye color       463 non-null    object\n",
      " 6   Skin color      463 non-null    object\n",
      " 7   Measurements    463 non-null    object\n",
      "dtypes: object(8)\n",
      "memory usage: 29.1+ KB\n"
     ]
    }
   ],
   "source": [
    "dfinfo.info()"
   ]
  },
  {
   "cell_type": "code",
   "execution_count": 6,
   "id": "70195407-2dcc-4497-bf53-a7098477ba9a",
   "metadata": {},
   "outputs": [
    {
     "name": "stdout",
     "output_type": "stream",
     "text": [
      "<class 'pandas.core.frame.DataFrame'>\n",
      "RangeIndex: 667 entries, 0 to 666\n",
      "Data columns (total 2 columns):\n",
      " #   Column      Non-Null Count  Dtype \n",
      "---  ------      --------------  ----- \n",
      " 0   hero_names  667 non-null    object\n",
      " 1   Powers      667 non-null    object\n",
      "dtypes: object(2)\n",
      "memory usage: 10.5+ KB\n"
     ]
    }
   ],
   "source": [
    "dfpowers.info()"
   ]
  },
  {
   "cell_type": "markdown",
   "id": "8cb07a92-bb45-4bec-9ef3-8615b3b373e9",
   "metadata": {},
   "source": [
    "Powers is the larger table, so we will be joining the tables into info with an inner join. We will join on hero names, which need to be split from the first column in info"
   ]
  },
  {
   "cell_type": "markdown",
   "id": "156e78eb-3a85-44e0-af20-266dc7970304",
   "metadata": {},
   "source": [
    "# Data cleaning and transformation"
   ]
  },
  {
   "cell_type": "markdown",
   "id": "86a711ed-9293-4f3b-b5eb-9eb8f74fd1a1",
   "metadata": {},
   "source": [
    "## Hero & Publisher"
   ]
  },
  {
   "cell_type": "code",
   "execution_count": 7,
   "id": "a464833b-029d-435a-9b2d-364d9a4d31ef",
   "metadata": {},
   "outputs": [
    {
     "data": {
      "text/html": [
       "<div>\n",
       "<style scoped>\n",
       "    .dataframe tbody tr th:only-of-type {\n",
       "        vertical-align: middle;\n",
       "    }\n",
       "\n",
       "    .dataframe tbody tr th {\n",
       "        vertical-align: top;\n",
       "    }\n",
       "\n",
       "    .dataframe thead th {\n",
       "        text-align: right;\n",
       "    }\n",
       "</style>\n",
       "<table border=\"1\" class=\"dataframe\">\n",
       "  <thead>\n",
       "    <tr style=\"text-align: right;\">\n",
       "      <th></th>\n",
       "      <th>0</th>\n",
       "      <th>1</th>\n",
       "    </tr>\n",
       "  </thead>\n",
       "  <tbody>\n",
       "    <tr>\n",
       "      <th>0</th>\n",
       "      <td>A-Bomb</td>\n",
       "      <td>Marvel Comics</td>\n",
       "    </tr>\n",
       "    <tr>\n",
       "      <th>1</th>\n",
       "      <td>Abe Sapien</td>\n",
       "      <td>Dark Horse Comics</td>\n",
       "    </tr>\n",
       "    <tr>\n",
       "      <th>2</th>\n",
       "      <td>Abin Sur</td>\n",
       "      <td>DC Comics</td>\n",
       "    </tr>\n",
       "    <tr>\n",
       "      <th>3</th>\n",
       "      <td>Abomination</td>\n",
       "      <td>Marvel Comics</td>\n",
       "    </tr>\n",
       "    <tr>\n",
       "      <th>4</th>\n",
       "      <td>Absorbing Man</td>\n",
       "      <td>Marvel Comics</td>\n",
       "    </tr>\n",
       "    <tr>\n",
       "      <th>...</th>\n",
       "      <td>...</td>\n",
       "      <td>...</td>\n",
       "    </tr>\n",
       "    <tr>\n",
       "      <th>458</th>\n",
       "      <td>Yellowjacket</td>\n",
       "      <td>Marvel Comics</td>\n",
       "    </tr>\n",
       "    <tr>\n",
       "      <th>459</th>\n",
       "      <td>Yellowjacket II</td>\n",
       "      <td>Marvel Comics</td>\n",
       "    </tr>\n",
       "    <tr>\n",
       "      <th>460</th>\n",
       "      <td>Yoda</td>\n",
       "      <td>George Lucas</td>\n",
       "    </tr>\n",
       "    <tr>\n",
       "      <th>461</th>\n",
       "      <td>Zatanna</td>\n",
       "      <td>DC Comics</td>\n",
       "    </tr>\n",
       "    <tr>\n",
       "      <th>462</th>\n",
       "      <td>Zoom</td>\n",
       "      <td>DC Comics</td>\n",
       "    </tr>\n",
       "  </tbody>\n",
       "</table>\n",
       "<p>463 rows × 2 columns</p>\n",
       "</div>"
      ],
      "text/plain": [
       "                   0                  1\n",
       "0             A-Bomb      Marvel Comics\n",
       "1         Abe Sapien  Dark Horse Comics\n",
       "2           Abin Sur          DC Comics\n",
       "3        Abomination      Marvel Comics\n",
       "4      Absorbing Man      Marvel Comics\n",
       "..               ...                ...\n",
       "458     Yellowjacket      Marvel Comics\n",
       "459  Yellowjacket II      Marvel Comics\n",
       "460             Yoda       George Lucas\n",
       "461          Zatanna          DC Comics\n",
       "462             Zoom          DC Comics\n",
       "\n",
       "[463 rows x 2 columns]"
      ]
     },
     "execution_count": 7,
     "metadata": {},
     "output_type": "execute_result"
    }
   ],
   "source": [
    "herotest = dfinfo['Hero|Publisher'].str.split('|', expand = True)\n",
    "herotest"
   ]
  },
  {
   "cell_type": "code",
   "execution_count": 8,
   "id": "c6a82d72-ae92-4d65-b0b6-95b32f2d0202",
   "metadata": {},
   "outputs": [
    {
     "data": {
      "text/html": [
       "<div>\n",
       "<style scoped>\n",
       "    .dataframe tbody tr th:only-of-type {\n",
       "        vertical-align: middle;\n",
       "    }\n",
       "\n",
       "    .dataframe tbody tr th {\n",
       "        vertical-align: top;\n",
       "    }\n",
       "\n",
       "    .dataframe thead th {\n",
       "        text-align: right;\n",
       "    }\n",
       "</style>\n",
       "<table border=\"1\" class=\"dataframe\">\n",
       "  <thead>\n",
       "    <tr style=\"text-align: right;\">\n",
       "      <th></th>\n",
       "      <th>Gender</th>\n",
       "      <th>Race</th>\n",
       "      <th>Alignment</th>\n",
       "      <th>Hair color</th>\n",
       "      <th>Eye color</th>\n",
       "      <th>Skin color</th>\n",
       "      <th>Measurements</th>\n",
       "      <th>Hero</th>\n",
       "      <th>Publisher</th>\n",
       "    </tr>\n",
       "  </thead>\n",
       "  <tbody>\n",
       "    <tr>\n",
       "      <th>0</th>\n",
       "      <td>Male</td>\n",
       "      <td>Human</td>\n",
       "      <td>good</td>\n",
       "      <td>No Hair</td>\n",
       "      <td>yellow</td>\n",
       "      <td>Unknown</td>\n",
       "      <td>{'Height': '203.0 cm', 'Weight': '441.0 kg'}</td>\n",
       "      <td>A-Bomb</td>\n",
       "      <td>Marvel Comics</td>\n",
       "    </tr>\n",
       "    <tr>\n",
       "      <th>1</th>\n",
       "      <td>Male</td>\n",
       "      <td>Icthyo Sapien</td>\n",
       "      <td>good</td>\n",
       "      <td>No Hair</td>\n",
       "      <td>blue</td>\n",
       "      <td>blue</td>\n",
       "      <td>{'Height': '191.0 cm', 'Weight': '65.0 kg'}</td>\n",
       "      <td>Abe Sapien</td>\n",
       "      <td>Dark Horse Comics</td>\n",
       "    </tr>\n",
       "    <tr>\n",
       "      <th>2</th>\n",
       "      <td>Male</td>\n",
       "      <td>Ungaran</td>\n",
       "      <td>good</td>\n",
       "      <td>No Hair</td>\n",
       "      <td>blue</td>\n",
       "      <td>red</td>\n",
       "      <td>{'Height': '185.0 cm', 'Weight': '90.0 kg'}</td>\n",
       "      <td>Abin Sur</td>\n",
       "      <td>DC Comics</td>\n",
       "    </tr>\n",
       "    <tr>\n",
       "      <th>3</th>\n",
       "      <td>Male</td>\n",
       "      <td>Human / Radiation</td>\n",
       "      <td>bad</td>\n",
       "      <td>No Hair</td>\n",
       "      <td>green</td>\n",
       "      <td>Unknown</td>\n",
       "      <td>{'Height': '203.0 cm', 'Weight': '441.0 kg'}</td>\n",
       "      <td>Abomination</td>\n",
       "      <td>Marvel Comics</td>\n",
       "    </tr>\n",
       "    <tr>\n",
       "      <th>4</th>\n",
       "      <td>Male</td>\n",
       "      <td>Human</td>\n",
       "      <td>bad</td>\n",
       "      <td>No Hair</td>\n",
       "      <td>blue</td>\n",
       "      <td>Unknown</td>\n",
       "      <td>{'Height': '193.0 cm', 'Weight': '122.0 kg'}</td>\n",
       "      <td>Absorbing Man</td>\n",
       "      <td>Marvel Comics</td>\n",
       "    </tr>\n",
       "  </tbody>\n",
       "</table>\n",
       "</div>"
      ],
      "text/plain": [
       "  Gender               Race Alignment Hair color Eye color Skin color  \\\n",
       "0   Male              Human      good    No Hair    yellow    Unknown   \n",
       "1   Male      Icthyo Sapien      good    No Hair      blue       blue   \n",
       "2   Male            Ungaran      good    No Hair      blue        red   \n",
       "3   Male  Human / Radiation       bad    No Hair     green    Unknown   \n",
       "4   Male              Human       bad    No Hair      blue    Unknown   \n",
       "\n",
       "                                   Measurements           Hero  \\\n",
       "0  {'Height': '203.0 cm', 'Weight': '441.0 kg'}         A-Bomb   \n",
       "1   {'Height': '191.0 cm', 'Weight': '65.0 kg'}     Abe Sapien   \n",
       "2   {'Height': '185.0 cm', 'Weight': '90.0 kg'}       Abin Sur   \n",
       "3  {'Height': '203.0 cm', 'Weight': '441.0 kg'}    Abomination   \n",
       "4  {'Height': '193.0 cm', 'Weight': '122.0 kg'}  Absorbing Man   \n",
       "\n",
       "           Publisher  \n",
       "0      Marvel Comics  \n",
       "1  Dark Horse Comics  \n",
       "2          DC Comics  \n",
       "3      Marvel Comics  \n",
       "4      Marvel Comics  "
      ]
     },
     "execution_count": 8,
     "metadata": {},
     "output_type": "execute_result"
    }
   ],
   "source": [
    "dfinfo[['Hero','Publisher']] = dfinfo['Hero|Publisher'].str.split('|', expand = True)\n",
    "dfinfo.drop(columns = 'Hero|Publisher', inplace = True)\n",
    "dfinfo.head()"
   ]
  },
  {
   "cell_type": "markdown",
   "id": "c0439156-0c1c-4d1a-a3ef-71d19b485681",
   "metadata": {},
   "source": [
    "Hero and Publisher are split correctly "
   ]
  },
  {
   "cell_type": "markdown",
   "id": "98740d76-e070-42ad-a18d-c0103ef35cdb",
   "metadata": {
    "tags": []
   },
   "source": [
    "## Gender"
   ]
  },
  {
   "cell_type": "code",
   "execution_count": 9,
   "id": "19912401-f58b-4047-8089-386ef7097d66",
   "metadata": {},
   "outputs": [
    {
     "data": {
      "text/plain": [
       "Male       321\n",
       "Female     134\n",
       "Unknown      8\n",
       "Name: Gender, dtype: int64"
      ]
     },
     "execution_count": 9,
     "metadata": {},
     "output_type": "execute_result"
    }
   ],
   "source": [
    "dfinfo['Gender'].value_counts()"
   ]
  },
  {
   "cell_type": "markdown",
   "id": "c21f5d8e-db54-437f-8a86-3ed060f9bb3a",
   "metadata": {},
   "source": [
    "Gender seems good here"
   ]
  },
  {
   "cell_type": "markdown",
   "id": "8c082c91-7f61-4059-af1b-6c9408f17d00",
   "metadata": {},
   "source": [
    "## Eye color"
   ]
  },
  {
   "cell_type": "code",
   "execution_count": 10,
   "id": "b78a5b57-f8f5-4898-ab66-fa9b270bf4b3",
   "metadata": {},
   "outputs": [
    {
     "data": {
      "text/plain": [
       "blue                       182\n",
       "brown                      102\n",
       "green                       61\n",
       "red                         38\n",
       "Unknown                     17\n",
       "yellow                      13\n",
       "black                       12\n",
       "white                       10\n",
       "grey                         5\n",
       "hazel                        5\n",
       "gold                         3\n",
       "purple                       3\n",
       "yellow (without irises)      2\n",
       "amber                        2\n",
       "violet                       2\n",
       "white / red                  1\n",
       "indigo                       1\n",
       "silver                       1\n",
       "green / blue                 1\n",
       "blue / white                 1\n",
       "yellow / blue                1\n",
       "Name: Eye color, dtype: int64"
      ]
     },
     "execution_count": 10,
     "metadata": {},
     "output_type": "execute_result"
    }
   ],
   "source": [
    "dfinfo['Eye color'].value_counts()"
   ]
  },
  {
   "cell_type": "markdown",
   "id": "08dd2311-b5e9-4069-afea-774e5852d610",
   "metadata": {},
   "source": [
    "Some thin values here but it mostly looks ok, I dont see any issues with the data"
   ]
  },
  {
   "cell_type": "markdown",
   "id": "0f73e7c4-68b9-41f7-b992-ce2d0333f9cb",
   "metadata": {},
   "source": [
    "## Race"
   ]
  },
  {
   "cell_type": "code",
   "execution_count": 11,
   "id": "f9862c48-a2eb-4217-a008-8eee475f1386",
   "metadata": {},
   "outputs": [
    {
     "data": {
      "text/plain": [
       "Human                156\n",
       "Unknown              145\n",
       "Mutant                51\n",
       "Human / Radiation     11\n",
       "Android                7\n",
       "Symbiote               7\n",
       "Alien                  6\n",
       "Demon                  6\n",
       "Cyborg                 6\n",
       "Kryptonian             5\n",
       "Atlantean              5\n",
       "Asgardian              5\n",
       "Inhuman                4\n",
       "New God                3\n",
       "Human-Kree             2\n",
       "Eternal                2\n",
       "Demi-God               2\n",
       "Saiyan                 2\n",
       "Amazon                 2\n",
       "Human / Altered        2\n",
       "Metahuman              2\n",
       "God / Eternal          2\n",
       "Human-Vulcan           1\n",
       "Martian                1\n",
       "Zombie                 1\n",
       "Korugaran              1\n",
       "Talokite               1\n",
       "Clone                  1\n",
       "Human-Spartoi          1\n",
       "Animal                 1\n",
       "Yautja                 1\n",
       "Human / Cosmic         1\n",
       "Tamaranean             1\n",
       "Mutant / Clone         1\n",
       "Luphomoid              1\n",
       "Frost Giant            1\n",
       "Strontian              1\n",
       "Czarnian               1\n",
       "Bolovaxian             1\n",
       "Human-Vuldarian        1\n",
       "Flora Colossus         1\n",
       "Gorilla                1\n",
       "Icthyo Sapien          1\n",
       "Zen-Whoberian          1\n",
       "Cosmic Entity          1\n",
       "Kakarantharaian        1\n",
       "Vampire                1\n",
       "Bizarro                1\n",
       "Neyaphem               1\n",
       "Xenomorph XX121        1\n",
       "Ungaran                1\n",
       "Yoda's species         1\n",
       "Name: Race, dtype: int64"
      ]
     },
     "execution_count": 11,
     "metadata": {},
     "output_type": "execute_result"
    }
   ],
   "source": [
    "dfinfo['Race'].value_counts()"
   ]
  },
  {
   "cell_type": "markdown",
   "id": "43894d2f-6cc8-42f6-9b59-5dc17d8e96c5",
   "metadata": {},
   "source": [
    "Same here, lots of unique values but no major issues"
   ]
  },
  {
   "cell_type": "markdown",
   "id": "06498ce9-abce-4228-863a-272093383a77",
   "metadata": {},
   "source": [
    "## Hair Color"
   ]
  },
  {
   "cell_type": "code",
   "execution_count": 12,
   "id": "770975ba-0bb7-40fd-9a6d-20f4aefa22e5",
   "metadata": {},
   "outputs": [
    {
     "data": {
      "text/plain": [
       "Black               127\n",
       "Blond                74\n",
       "Brown                69\n",
       "No Hair              52\n",
       "Red                  41\n",
       "White                22\n",
       "Unknown              18\n",
       "Auburn               13\n",
       "Green                 6\n",
       "Strawberry Blond      5\n",
       "Purple                4\n",
       "Brown / White         4\n",
       "Grey                  4\n",
       "black                 3\n",
       "blond                 3\n",
       "Silver                3\n",
       "Blue                  2\n",
       "Orange                2\n",
       "Pink                  1\n",
       "Gold                  1\n",
       "Red / White           1\n",
       "Indigo                1\n",
       "Red / Orange          1\n",
       "Red / Grey            1\n",
       "Brownn                1\n",
       "Yellow                1\n",
       "Orange / White        1\n",
       "Magenta               1\n",
       "Black / Blue          1\n",
       "Name: Hair color, dtype: int64"
      ]
     },
     "execution_count": 12,
     "metadata": {},
     "output_type": "execute_result"
    }
   ],
   "source": [
    "dfinfo['Hair color'].value_counts()"
   ]
  },
  {
   "cell_type": "markdown",
   "id": "0b690721-e4cd-4196-a78b-8a9b96e0cf84",
   "metadata": {},
   "source": [
    "No issues here"
   ]
  },
  {
   "cell_type": "markdown",
   "id": "43793d45-dfa9-4d21-932a-3c2e6ca43280",
   "metadata": {},
   "source": [
    "## Height/Weight\n",
    "Height and Weight are stored in a dictionary called Measurements. Lets parse those out"
   ]
  },
  {
   "cell_type": "code",
   "execution_count": 13,
   "id": "0391bcd8-611a-4726-b6e2-5bf2fe8573c4",
   "metadata": {},
   "outputs": [
    {
     "data": {
      "text/plain": [
       "{'Height': '191.0 cm', 'Weight': '65.0 kg'}"
      ]
     },
     "execution_count": 13,
     "metadata": {},
     "output_type": "execute_result"
    }
   ],
   "source": [
    "# Replacing the single quote with a double quote and using json.loads\n",
    "measuretest = dfinfo['Measurements'].str.replace(\"'\",'\"')\n",
    "measuretest = json.loads(measuretest[1])\n",
    "measuretest"
   ]
  },
  {
   "cell_type": "code",
   "execution_count": 14,
   "id": "cce84522-642a-476c-bdf7-4fc303af772a",
   "metadata": {},
   "outputs": [
    {
     "data": {
      "text/plain": [
       "0      {'Height': '203.0 cm', 'Weight': '441.0 kg'}\n",
       "1       {'Height': '191.0 cm', 'Weight': '65.0 kg'}\n",
       "2       {'Height': '185.0 cm', 'Weight': '90.0 kg'}\n",
       "3      {'Height': '203.0 cm', 'Weight': '441.0 kg'}\n",
       "4      {'Height': '193.0 cm', 'Weight': '122.0 kg'}\n",
       "                           ...                     \n",
       "458     {'Height': '183.0 cm', 'Weight': '83.0 kg'}\n",
       "459     {'Height': '165.0 cm', 'Weight': '52.0 kg'}\n",
       "460      {'Height': '66.0 cm', 'Weight': '17.0 kg'}\n",
       "461     {'Height': '170.0 cm', 'Weight': '57.0 kg'}\n",
       "462     {'Height': '185.0 cm', 'Weight': '81.0 kg'}\n",
       "Name: Measurements, Length: 463, dtype: object"
      ]
     },
     "execution_count": 14,
     "metadata": {},
     "output_type": "execute_result"
    }
   ],
   "source": [
    "# Applying to the dataset\n",
    "dfinfo['Measurements'] = dfinfo['Measurements'].str.replace(\"'\",'\"')\n",
    "dfinfo['Measurements'] = dfinfo['Measurements'].apply(json.loads)\n",
    "dfinfo['Measurements']"
   ]
  },
  {
   "cell_type": "markdown",
   "id": "bb322aa2-d4cf-469a-a51c-e1d50e7a81b2",
   "metadata": {},
   "source": [
    "Measurements is now a proper dictionary. We can split it using pd.Series and concatenate it back to the dataframe"
   ]
  },
  {
   "cell_type": "code",
   "execution_count": 15,
   "id": "c429f33d-ee3c-4608-80b3-b07fe454caaf",
   "metadata": {},
   "outputs": [
    {
     "data": {
      "text/html": [
       "<div>\n",
       "<style scoped>\n",
       "    .dataframe tbody tr th:only-of-type {\n",
       "        vertical-align: middle;\n",
       "    }\n",
       "\n",
       "    .dataframe tbody tr th {\n",
       "        vertical-align: top;\n",
       "    }\n",
       "\n",
       "    .dataframe thead th {\n",
       "        text-align: right;\n",
       "    }\n",
       "</style>\n",
       "<table border=\"1\" class=\"dataframe\">\n",
       "  <thead>\n",
       "    <tr style=\"text-align: right;\">\n",
       "      <th></th>\n",
       "      <th>Height</th>\n",
       "      <th>Weight</th>\n",
       "    </tr>\n",
       "  </thead>\n",
       "  <tbody>\n",
       "    <tr>\n",
       "      <th>0</th>\n",
       "      <td>203.0 cm</td>\n",
       "      <td>441.0 kg</td>\n",
       "    </tr>\n",
       "    <tr>\n",
       "      <th>1</th>\n",
       "      <td>191.0 cm</td>\n",
       "      <td>65.0 kg</td>\n",
       "    </tr>\n",
       "    <tr>\n",
       "      <th>2</th>\n",
       "      <td>185.0 cm</td>\n",
       "      <td>90.0 kg</td>\n",
       "    </tr>\n",
       "    <tr>\n",
       "      <th>3</th>\n",
       "      <td>203.0 cm</td>\n",
       "      <td>441.0 kg</td>\n",
       "    </tr>\n",
       "    <tr>\n",
       "      <th>4</th>\n",
       "      <td>193.0 cm</td>\n",
       "      <td>122.0 kg</td>\n",
       "    </tr>\n",
       "    <tr>\n",
       "      <th>...</th>\n",
       "      <td>...</td>\n",
       "      <td>...</td>\n",
       "    </tr>\n",
       "    <tr>\n",
       "      <th>458</th>\n",
       "      <td>183.0 cm</td>\n",
       "      <td>83.0 kg</td>\n",
       "    </tr>\n",
       "    <tr>\n",
       "      <th>459</th>\n",
       "      <td>165.0 cm</td>\n",
       "      <td>52.0 kg</td>\n",
       "    </tr>\n",
       "    <tr>\n",
       "      <th>460</th>\n",
       "      <td>66.0 cm</td>\n",
       "      <td>17.0 kg</td>\n",
       "    </tr>\n",
       "    <tr>\n",
       "      <th>461</th>\n",
       "      <td>170.0 cm</td>\n",
       "      <td>57.0 kg</td>\n",
       "    </tr>\n",
       "    <tr>\n",
       "      <th>462</th>\n",
       "      <td>185.0 cm</td>\n",
       "      <td>81.0 kg</td>\n",
       "    </tr>\n",
       "  </tbody>\n",
       "</table>\n",
       "<p>463 rows × 2 columns</p>\n",
       "</div>"
      ],
      "text/plain": [
       "       Height    Weight\n",
       "0    203.0 cm  441.0 kg\n",
       "1    191.0 cm   65.0 kg\n",
       "2    185.0 cm   90.0 kg\n",
       "3    203.0 cm  441.0 kg\n",
       "4    193.0 cm  122.0 kg\n",
       "..        ...       ...\n",
       "458  183.0 cm   83.0 kg\n",
       "459  165.0 cm   52.0 kg\n",
       "460   66.0 cm   17.0 kg\n",
       "461  170.0 cm   57.0 kg\n",
       "462  185.0 cm   81.0 kg\n",
       "\n",
       "[463 rows x 2 columns]"
      ]
     },
     "execution_count": 15,
     "metadata": {},
     "output_type": "execute_result"
    }
   ],
   "source": [
    "h_w  = dfinfo['Measurements'].apply(pd.Series)\n",
    "h_w"
   ]
  },
  {
   "cell_type": "markdown",
   "id": "0b5640e6-613f-4210-a7ed-fe3dceb158bb",
   "metadata": {},
   "source": [
    "Before concatenating the data back to the dataframe I want to split by space and remove the cm and kg, otherwise I wont be able to turn the new columns into numbers"
   ]
  },
  {
   "cell_type": "code",
   "execution_count": 16,
   "id": "f598c120-ee80-4700-8276-67bf68fe4eb6",
   "metadata": {},
   "outputs": [],
   "source": [
    "h_w[['Height','d1']] = h_w['Height'].str.split(' ', expand = True)\n",
    "h_w[['Weight','d2']] = h_w['Weight'].str.split(' ', expand = True)\n",
    "h_w.drop(columns = ['d1','d2'], inplace = True)"
   ]
  },
  {
   "cell_type": "code",
   "execution_count": 17,
   "id": "c8322ae3-7427-44bc-95b1-cb7d146f0949",
   "metadata": {},
   "outputs": [
    {
     "data": {
      "text/html": [
       "<div>\n",
       "<style scoped>\n",
       "    .dataframe tbody tr th:only-of-type {\n",
       "        vertical-align: middle;\n",
       "    }\n",
       "\n",
       "    .dataframe tbody tr th {\n",
       "        vertical-align: top;\n",
       "    }\n",
       "\n",
       "    .dataframe thead th {\n",
       "        text-align: right;\n",
       "    }\n",
       "</style>\n",
       "<table border=\"1\" class=\"dataframe\">\n",
       "  <thead>\n",
       "    <tr style=\"text-align: right;\">\n",
       "      <th></th>\n",
       "      <th>Height</th>\n",
       "      <th>Weight</th>\n",
       "    </tr>\n",
       "  </thead>\n",
       "  <tbody>\n",
       "    <tr>\n",
       "      <th>0</th>\n",
       "      <td>203.0</td>\n",
       "      <td>441.0</td>\n",
       "    </tr>\n",
       "    <tr>\n",
       "      <th>1</th>\n",
       "      <td>191.0</td>\n",
       "      <td>65.0</td>\n",
       "    </tr>\n",
       "    <tr>\n",
       "      <th>2</th>\n",
       "      <td>185.0</td>\n",
       "      <td>90.0</td>\n",
       "    </tr>\n",
       "    <tr>\n",
       "      <th>3</th>\n",
       "      <td>203.0</td>\n",
       "      <td>441.0</td>\n",
       "    </tr>\n",
       "    <tr>\n",
       "      <th>4</th>\n",
       "      <td>193.0</td>\n",
       "      <td>122.0</td>\n",
       "    </tr>\n",
       "  </tbody>\n",
       "</table>\n",
       "</div>"
      ],
      "text/plain": [
       "  Height Weight\n",
       "0  203.0  441.0\n",
       "1  191.0   65.0\n",
       "2  185.0   90.0\n",
       "3  203.0  441.0\n",
       "4  193.0  122.0"
      ]
     },
     "execution_count": 17,
     "metadata": {},
     "output_type": "execute_result"
    }
   ],
   "source": [
    "h_w.head()"
   ]
  },
  {
   "cell_type": "markdown",
   "id": "4693cde1-2e3b-4782-aa88-301b75a384a1",
   "metadata": {},
   "source": [
    "Now to concatenate it back to the dataframe"
   ]
  },
  {
   "cell_type": "code",
   "execution_count": 18,
   "id": "fc665f26-48cb-47f5-8963-081c4cbc724e",
   "metadata": {},
   "outputs": [
    {
     "data": {
      "text/html": [
       "<div>\n",
       "<style scoped>\n",
       "    .dataframe tbody tr th:only-of-type {\n",
       "        vertical-align: middle;\n",
       "    }\n",
       "\n",
       "    .dataframe tbody tr th {\n",
       "        vertical-align: top;\n",
       "    }\n",
       "\n",
       "    .dataframe thead th {\n",
       "        text-align: right;\n",
       "    }\n",
       "</style>\n",
       "<table border=\"1\" class=\"dataframe\">\n",
       "  <thead>\n",
       "    <tr style=\"text-align: right;\">\n",
       "      <th></th>\n",
       "      <th>Gender</th>\n",
       "      <th>Race</th>\n",
       "      <th>Alignment</th>\n",
       "      <th>Hair color</th>\n",
       "      <th>Eye color</th>\n",
       "      <th>Skin color</th>\n",
       "      <th>Measurements</th>\n",
       "      <th>Hero</th>\n",
       "      <th>Publisher</th>\n",
       "      <th>Height</th>\n",
       "      <th>Weight</th>\n",
       "    </tr>\n",
       "  </thead>\n",
       "  <tbody>\n",
       "    <tr>\n",
       "      <th>0</th>\n",
       "      <td>Male</td>\n",
       "      <td>Human</td>\n",
       "      <td>good</td>\n",
       "      <td>No Hair</td>\n",
       "      <td>yellow</td>\n",
       "      <td>Unknown</td>\n",
       "      <td>{'Height': '203.0 cm', 'Weight': '441.0 kg'}</td>\n",
       "      <td>A-Bomb</td>\n",
       "      <td>Marvel Comics</td>\n",
       "      <td>203.0</td>\n",
       "      <td>441.0</td>\n",
       "    </tr>\n",
       "    <tr>\n",
       "      <th>1</th>\n",
       "      <td>Male</td>\n",
       "      <td>Icthyo Sapien</td>\n",
       "      <td>good</td>\n",
       "      <td>No Hair</td>\n",
       "      <td>blue</td>\n",
       "      <td>blue</td>\n",
       "      <td>{'Height': '191.0 cm', 'Weight': '65.0 kg'}</td>\n",
       "      <td>Abe Sapien</td>\n",
       "      <td>Dark Horse Comics</td>\n",
       "      <td>191.0</td>\n",
       "      <td>65.0</td>\n",
       "    </tr>\n",
       "    <tr>\n",
       "      <th>2</th>\n",
       "      <td>Male</td>\n",
       "      <td>Ungaran</td>\n",
       "      <td>good</td>\n",
       "      <td>No Hair</td>\n",
       "      <td>blue</td>\n",
       "      <td>red</td>\n",
       "      <td>{'Height': '185.0 cm', 'Weight': '90.0 kg'}</td>\n",
       "      <td>Abin Sur</td>\n",
       "      <td>DC Comics</td>\n",
       "      <td>185.0</td>\n",
       "      <td>90.0</td>\n",
       "    </tr>\n",
       "    <tr>\n",
       "      <th>3</th>\n",
       "      <td>Male</td>\n",
       "      <td>Human / Radiation</td>\n",
       "      <td>bad</td>\n",
       "      <td>No Hair</td>\n",
       "      <td>green</td>\n",
       "      <td>Unknown</td>\n",
       "      <td>{'Height': '203.0 cm', 'Weight': '441.0 kg'}</td>\n",
       "      <td>Abomination</td>\n",
       "      <td>Marvel Comics</td>\n",
       "      <td>203.0</td>\n",
       "      <td>441.0</td>\n",
       "    </tr>\n",
       "    <tr>\n",
       "      <th>4</th>\n",
       "      <td>Male</td>\n",
       "      <td>Human</td>\n",
       "      <td>bad</td>\n",
       "      <td>No Hair</td>\n",
       "      <td>blue</td>\n",
       "      <td>Unknown</td>\n",
       "      <td>{'Height': '193.0 cm', 'Weight': '122.0 kg'}</td>\n",
       "      <td>Absorbing Man</td>\n",
       "      <td>Marvel Comics</td>\n",
       "      <td>193.0</td>\n",
       "      <td>122.0</td>\n",
       "    </tr>\n",
       "  </tbody>\n",
       "</table>\n",
       "</div>"
      ],
      "text/plain": [
       "  Gender               Race Alignment Hair color Eye color Skin color  \\\n",
       "0   Male              Human      good    No Hair    yellow    Unknown   \n",
       "1   Male      Icthyo Sapien      good    No Hair      blue       blue   \n",
       "2   Male            Ungaran      good    No Hair      blue        red   \n",
       "3   Male  Human / Radiation       bad    No Hair     green    Unknown   \n",
       "4   Male              Human       bad    No Hair      blue    Unknown   \n",
       "\n",
       "                                   Measurements           Hero  \\\n",
       "0  {'Height': '203.0 cm', 'Weight': '441.0 kg'}         A-Bomb   \n",
       "1   {'Height': '191.0 cm', 'Weight': '65.0 kg'}     Abe Sapien   \n",
       "2   {'Height': '185.0 cm', 'Weight': '90.0 kg'}       Abin Sur   \n",
       "3  {'Height': '203.0 cm', 'Weight': '441.0 kg'}    Abomination   \n",
       "4  {'Height': '193.0 cm', 'Weight': '122.0 kg'}  Absorbing Man   \n",
       "\n",
       "           Publisher Height Weight  \n",
       "0      Marvel Comics  203.0  441.0  \n",
       "1  Dark Horse Comics  191.0   65.0  \n",
       "2          DC Comics  185.0   90.0  \n",
       "3      Marvel Comics  203.0  441.0  \n",
       "4      Marvel Comics  193.0  122.0  "
      ]
     },
     "execution_count": 18,
     "metadata": {},
     "output_type": "execute_result"
    }
   ],
   "source": [
    "dfinfo = pd.concat((dfinfo, h_w), axis = 1)\n",
    "dfinfo.head()"
   ]
  },
  {
   "cell_type": "code",
   "execution_count": 19,
   "id": "61235208-1514-461b-8c4a-daf5ec9179bd",
   "metadata": {},
   "outputs": [
    {
     "name": "stdout",
     "output_type": "stream",
     "text": [
      "<class 'pandas.core.frame.DataFrame'>\n",
      "RangeIndex: 463 entries, 0 to 462\n",
      "Data columns (total 11 columns):\n",
      " #   Column        Non-Null Count  Dtype \n",
      "---  ------        --------------  ----- \n",
      " 0   Gender        463 non-null    object\n",
      " 1   Race          463 non-null    object\n",
      " 2   Alignment     463 non-null    object\n",
      " 3   Hair color    463 non-null    object\n",
      " 4   Eye color     463 non-null    object\n",
      " 5   Skin color    463 non-null    object\n",
      " 6   Measurements  463 non-null    object\n",
      " 7   Hero          463 non-null    object\n",
      " 8   Publisher     463 non-null    object\n",
      " 9   Height        463 non-null    object\n",
      " 10  Weight        463 non-null    object\n",
      "dtypes: object(11)\n",
      "memory usage: 39.9+ KB\n"
     ]
    }
   ],
   "source": [
    "dfinfo.info()"
   ]
  },
  {
   "cell_type": "markdown",
   "id": "b6c0c5af-0f54-4742-a2d6-72740a4437cd",
   "metadata": {},
   "source": [
    "The columns are still objects, lets change them to float"
   ]
  },
  {
   "cell_type": "code",
   "execution_count": 20,
   "id": "676adcbd-7adb-4e97-852a-2ee5a6b78890",
   "metadata": {},
   "outputs": [
    {
     "name": "stdout",
     "output_type": "stream",
     "text": [
      "<class 'pandas.core.frame.DataFrame'>\n",
      "RangeIndex: 463 entries, 0 to 462\n",
      "Data columns (total 11 columns):\n",
      " #   Column        Non-Null Count  Dtype  \n",
      "---  ------        --------------  -----  \n",
      " 0   Gender        463 non-null    object \n",
      " 1   Race          463 non-null    object \n",
      " 2   Alignment     463 non-null    object \n",
      " 3   Hair color    463 non-null    object \n",
      " 4   Eye color     463 non-null    object \n",
      " 5   Skin color    463 non-null    object \n",
      " 6   Measurements  463 non-null    object \n",
      " 7   Hero          463 non-null    object \n",
      " 8   Publisher     463 non-null    object \n",
      " 9   Height        463 non-null    float64\n",
      " 10  Weight        463 non-null    float64\n",
      "dtypes: float64(2), object(9)\n",
      "memory usage: 39.9+ KB\n"
     ]
    }
   ],
   "source": [
    "dfinfo['Height'] = dfinfo['Height'].astype(float)\n",
    "dfinfo['Weight'] = dfinfo['Weight'].astype(float)\n",
    "dfinfo.info()"
   ]
  },
  {
   "cell_type": "code",
   "execution_count": 21,
   "id": "d240729c-cdcc-4373-9ed8-1b85e72ccf28",
   "metadata": {},
   "outputs": [],
   "source": [
    "# Dropping the old column\n",
    "dfinfo.drop(columns = 'Measurements', inplace = True)"
   ]
  },
  {
   "cell_type": "markdown",
   "id": "2dde1f1d-38c5-4b61-a1d7-136b03bae7be",
   "metadata": {},
   "source": [
    "All set!"
   ]
  },
  {
   "cell_type": "markdown",
   "id": "1382baa2-113a-4c1c-8e99-7966fb1d9c09",
   "metadata": {},
   "source": [
    "## Skin color"
   ]
  },
  {
   "cell_type": "code",
   "execution_count": 22,
   "id": "0581ec00-b83b-4666-a1a6-52adb82e94a4",
   "metadata": {},
   "outputs": [
    {
     "data": {
      "text/plain": [
       "Unknown       409\n",
       "green          15\n",
       "blue            7\n",
       "red             7\n",
       "white           5\n",
       "grey            4\n",
       "silver          4\n",
       "purple          3\n",
       "gold            2\n",
       "pink            2\n",
       "yellow          2\n",
       "black           1\n",
       "blue-white      1\n",
       "orange          1\n",
       "Name: Skin color, dtype: int64"
      ]
     },
     "execution_count": 22,
     "metadata": {},
     "output_type": "execute_result"
    }
   ],
   "source": [
    "dfinfo['Skin color'].value_counts()"
   ]
  },
  {
   "cell_type": "markdown",
   "id": "b66df1dc-5535-4d41-959f-60e9387439f4",
   "metadata": {},
   "source": [
    "Largely unknown, but this is fine"
   ]
  },
  {
   "cell_type": "markdown",
   "id": "3b7ac98c-95d1-4eac-a22a-4f459482d5a6",
   "metadata": {},
   "source": [
    "## Alignment"
   ]
  },
  {
   "cell_type": "code",
   "execution_count": 23,
   "id": "fbd296c2-3b0f-42c0-a9ef-048e5e1a10a1",
   "metadata": {},
   "outputs": [
    {
     "data": {
      "text/plain": [
       "good       311\n",
       "bad        132\n",
       "neutral     17\n",
       "Unknown      3\n",
       "Name: Alignment, dtype: int64"
      ]
     },
     "execution_count": 23,
     "metadata": {},
     "output_type": "execute_result"
    }
   ],
   "source": [
    "dfinfo['Alignment'].value_counts()"
   ]
  },
  {
   "cell_type": "markdown",
   "id": "c0561de6-a731-4707-a1a6-7066e122c4d1",
   "metadata": {},
   "source": [
    "This is good too."
   ]
  },
  {
   "cell_type": "markdown",
   "id": "a7b6d26a-5087-4c95-b472-20f10ecc1522",
   "metadata": {},
   "source": [
    "## Powers\n",
    "Powers are stored in a different table and need to be one hot encoded, then joined with the main table. Lets start with one hot encoding the entries first"
   ]
  },
  {
   "cell_type": "code",
   "execution_count": 24,
   "id": "ae24959b-d451-4a70-b0cc-c8144f2476e8",
   "metadata": {},
   "outputs": [
    {
     "data": {
      "text/plain": [
       "str"
      ]
     },
     "execution_count": 24,
     "metadata": {},
     "output_type": "execute_result"
    }
   ],
   "source": [
    "type(dfpowers.loc[1,'Powers'])"
   ]
  },
  {
   "cell_type": "code",
   "execution_count": 25,
   "id": "1755f376-6642-4684-a4b8-b01fd382d036",
   "metadata": {},
   "outputs": [
    {
     "data": {
      "text/plain": [
       "array([['Agility', 'Super Strength', 'Stamina', ..., 'None', 'None',\n",
       "        'None'],\n",
       "       ['Accelerated Healing', 'Durability', 'Longevity', ..., 'None',\n",
       "        'None', 'None'],\n",
       "       ['Agility', 'Accelerated Healing', 'Cold Resistance', ..., 'None',\n",
       "        'None', 'None'],\n",
       "       ...,\n",
       "       ['Agility', 'Stealth', 'Danger Sense', ..., 'None', 'None',\n",
       "        'None'],\n",
       "       ['Cryokinesis', 'Telepathy', 'Magic', ..., 'None', 'None', 'None'],\n",
       "       ['Super Speed', 'Intangibility', 'Time Travel', ..., 'None',\n",
       "        'None', 'None']], dtype=object)"
      ]
     },
     "execution_count": 25,
     "metadata": {},
     "output_type": "execute_result"
    }
   ],
   "source": [
    "# Splitting the column into individual columns for each power\n",
    "powertest = dfpowers['Powers'].str.split(',', expand = True)\n",
    "# Filling the nulls with a string for each new column\n",
    "powertest.fillna('None', inplace = True)\n",
    "# Converting to a numpy array\n",
    "powertest = powertest.values\n",
    "powertest.astype(str)\n",
    "powertest"
   ]
  },
  {
   "cell_type": "code",
   "execution_count": 26,
   "id": "bf47d0c4-fefc-4b2d-9e9b-fc7ef0cd1341",
   "metadata": {},
   "outputs": [
    {
     "data": {
      "text/plain": [
       "array(['Accelerated Healing', 'Adaptation', 'Agility',\n",
       "       'Animal Attributes', 'Animal Control', 'Animal Oriented Powers',\n",
       "       'Animation', 'Anti-Gravity', 'Astral Projection', 'Astral Travel',\n",
       "       'Audio Control', 'Banish', 'Biokinesis', 'Camouflage',\n",
       "       'Changing Armor', 'Clairvoyance', 'Cloaking', 'Cold Resistance',\n",
       "       'Cryokinesis', 'Danger Sense', 'Darkforce Manipulation',\n",
       "       'Death Touch', 'Density Control', 'Dexterity',\n",
       "       'Dimensional Awareness', 'Dimensional Travel', 'Duplication',\n",
       "       'Durability', 'Echolocation', 'Elasticity', 'Electrical Transport',\n",
       "       'Electrokinesis', 'Element Control',\n",
       "       'Elemental Transmogrification', 'Empathy', 'Energy Absorption',\n",
       "       'Energy Armor', 'Energy Beams', 'Energy Blasts',\n",
       "       'Energy Constructs', 'Energy Manipulation', 'Energy Resistance',\n",
       "       'Enhanced Hearing', 'Enhanced Memory', 'Enhanced Senses',\n",
       "       'Enhanced Sight', 'Enhanced Smell', 'Enhanced Touch',\n",
       "       'Fire Control', 'Fire Resistance', 'Flight', 'Force Fields',\n",
       "       'Gliding', 'Gravity Control', 'Grim Reaping', 'Hair Manipulation',\n",
       "       'Heat Generation', 'Heat Resistance', 'Hyperkinesis',\n",
       "       'Hypnokinesis', 'Illumination', 'Illusions', 'Immortality',\n",
       "       'Insanity', 'Intangibility', 'Intelligence', 'Intuitive aptitude',\n",
       "       'Invisibility', 'Invulnerability', 'Jump', 'Lantern Power Ring',\n",
       "       'Levitation', 'Light Control', 'Longevity', 'Magic',\n",
       "       'Magic Resistance', 'Magnetism', 'Marksmanship',\n",
       "       'Matter Absorption', 'Melting', 'Mind Blast', 'Mind Control',\n",
       "       'Mind Control Resistance', 'Molecular Combustion',\n",
       "       'Molecular Dissipation', 'Molecular Manipulation', 'Natural Armor',\n",
       "       'Natural Weapons', 'None', 'Nova Force', 'Odin Force',\n",
       "       'Omnilingualism', 'Omnipotent', 'Omnipresent', 'Omniscient',\n",
       "       'Omnitrix', 'Peak Human Condition', 'Phasing', 'Phoenix Force',\n",
       "       'Photographic Reflexes', 'Plant Control', 'Portal Creation',\n",
       "       'Possession', 'Power Absorption', 'Power Augmentation',\n",
       "       'Power Cosmic', 'Power Nullifier', 'Power Sense', 'Power Suit',\n",
       "       'Precognition', 'Probability Manipulation', 'Projection',\n",
       "       'Psionic Powers', 'Qwardian Power Ring', 'Radar Sense',\n",
       "       'Radiation Absorption', 'Radiation Control', 'Radiation Immunity',\n",
       "       'Reality Warping', 'Reflexes', 'Regeneration', 'Resurrection',\n",
       "       'Seismic Power', 'Self-Sustenance', 'Shapeshifting',\n",
       "       'Size Changing', 'Sonar', 'Sonic Scream', 'Spatial Awareness',\n",
       "       'Speed Force', 'Stamina', 'Stealth', 'Sub-Mariner',\n",
       "       'Substance Secretion', 'Summoning', 'Super Breath', 'Super Speed',\n",
       "       'Super Strength', 'Symbiote Costume', 'Technopath/Cyberpath',\n",
       "       'Telekinesis', 'Telepathy', 'Telepathy Resistance',\n",
       "       'Teleportation', 'Terrakinesis', 'The Force', 'Thirstokinesis',\n",
       "       'Time Manipulation', 'Time Travel', 'Toxin and Disease Control',\n",
       "       'Toxin and Disease Resistance', 'Underwater breathing',\n",
       "       'Vision - Cryo', 'Vision - Heat', 'Vision - Infrared',\n",
       "       'Vision - Microscopic', 'Vision - Night', 'Vision - Telescopic',\n",
       "       'Vision - Thermal', 'Vision - X-Ray', 'Vitakinesis',\n",
       "       'Wallcrawling', 'Water Control', 'Weapon-based Powers',\n",
       "       'Weapons Master', 'Weather Control', 'Web Creation',\n",
       "       'Wind Control'], dtype=object)"
      ]
     },
     "execution_count": 26,
     "metadata": {},
     "output_type": "execute_result"
    }
   ],
   "source": [
    "# Parsing the array for unique values\n",
    "powertest = np.unique(powertest)\n",
    "powertest"
   ]
  },
  {
   "cell_type": "code",
   "execution_count": 27,
   "id": "c262da24-6cef-4bda-94d2-646123385ed8",
   "metadata": {},
   "outputs": [
    {
     "name": "stderr",
     "output_type": "stream",
     "text": [
      "C:\\Users\\Ray\\AppData\\Local\\Temp\\ipykernel_2480\\1147978363.py:2: PerformanceWarning: DataFrame is highly fragmented.  This is usually the result of calling `frame.insert` many times, which has poor performance.  Consider joining all columns at once using pd.concat(axis=1) instead. To get a de-fragmented frame, use `newframe = frame.copy()`\n",
      "  dfpowers[col] = dfpowers['Powers'].str.contains(col)\n",
      "C:\\Users\\Ray\\AppData\\Local\\Temp\\ipykernel_2480\\1147978363.py:2: PerformanceWarning: DataFrame is highly fragmented.  This is usually the result of calling `frame.insert` many times, which has poor performance.  Consider joining all columns at once using pd.concat(axis=1) instead. To get a de-fragmented frame, use `newframe = frame.copy()`\n",
      "  dfpowers[col] = dfpowers['Powers'].str.contains(col)\n",
      "C:\\Users\\Ray\\AppData\\Local\\Temp\\ipykernel_2480\\1147978363.py:2: PerformanceWarning: DataFrame is highly fragmented.  This is usually the result of calling `frame.insert` many times, which has poor performance.  Consider joining all columns at once using pd.concat(axis=1) instead. To get a de-fragmented frame, use `newframe = frame.copy()`\n",
      "  dfpowers[col] = dfpowers['Powers'].str.contains(col)\n",
      "C:\\Users\\Ray\\AppData\\Local\\Temp\\ipykernel_2480\\1147978363.py:2: PerformanceWarning: DataFrame is highly fragmented.  This is usually the result of calling `frame.insert` many times, which has poor performance.  Consider joining all columns at once using pd.concat(axis=1) instead. To get a de-fragmented frame, use `newframe = frame.copy()`\n",
      "  dfpowers[col] = dfpowers['Powers'].str.contains(col)\n",
      "C:\\Users\\Ray\\AppData\\Local\\Temp\\ipykernel_2480\\1147978363.py:2: PerformanceWarning: DataFrame is highly fragmented.  This is usually the result of calling `frame.insert` many times, which has poor performance.  Consider joining all columns at once using pd.concat(axis=1) instead. To get a de-fragmented frame, use `newframe = frame.copy()`\n",
      "  dfpowers[col] = dfpowers['Powers'].str.contains(col)\n",
      "C:\\Users\\Ray\\AppData\\Local\\Temp\\ipykernel_2480\\1147978363.py:2: PerformanceWarning: DataFrame is highly fragmented.  This is usually the result of calling `frame.insert` many times, which has poor performance.  Consider joining all columns at once using pd.concat(axis=1) instead. To get a de-fragmented frame, use `newframe = frame.copy()`\n",
      "  dfpowers[col] = dfpowers['Powers'].str.contains(col)\n",
      "C:\\Users\\Ray\\AppData\\Local\\Temp\\ipykernel_2480\\1147978363.py:2: PerformanceWarning: DataFrame is highly fragmented.  This is usually the result of calling `frame.insert` many times, which has poor performance.  Consider joining all columns at once using pd.concat(axis=1) instead. To get a de-fragmented frame, use `newframe = frame.copy()`\n",
      "  dfpowers[col] = dfpowers['Powers'].str.contains(col)\n",
      "C:\\Users\\Ray\\AppData\\Local\\Temp\\ipykernel_2480\\1147978363.py:2: PerformanceWarning: DataFrame is highly fragmented.  This is usually the result of calling `frame.insert` many times, which has poor performance.  Consider joining all columns at once using pd.concat(axis=1) instead. To get a de-fragmented frame, use `newframe = frame.copy()`\n",
      "  dfpowers[col] = dfpowers['Powers'].str.contains(col)\n",
      "C:\\Users\\Ray\\AppData\\Local\\Temp\\ipykernel_2480\\1147978363.py:2: PerformanceWarning: DataFrame is highly fragmented.  This is usually the result of calling `frame.insert` many times, which has poor performance.  Consider joining all columns at once using pd.concat(axis=1) instead. To get a de-fragmented frame, use `newframe = frame.copy()`\n",
      "  dfpowers[col] = dfpowers['Powers'].str.contains(col)\n",
      "C:\\Users\\Ray\\AppData\\Local\\Temp\\ipykernel_2480\\1147978363.py:2: PerformanceWarning: DataFrame is highly fragmented.  This is usually the result of calling `frame.insert` many times, which has poor performance.  Consider joining all columns at once using pd.concat(axis=1) instead. To get a de-fragmented frame, use `newframe = frame.copy()`\n",
      "  dfpowers[col] = dfpowers['Powers'].str.contains(col)\n",
      "C:\\Users\\Ray\\AppData\\Local\\Temp\\ipykernel_2480\\1147978363.py:2: PerformanceWarning: DataFrame is highly fragmented.  This is usually the result of calling `frame.insert` many times, which has poor performance.  Consider joining all columns at once using pd.concat(axis=1) instead. To get a de-fragmented frame, use `newframe = frame.copy()`\n",
      "  dfpowers[col] = dfpowers['Powers'].str.contains(col)\n",
      "C:\\Users\\Ray\\AppData\\Local\\Temp\\ipykernel_2480\\1147978363.py:2: PerformanceWarning: DataFrame is highly fragmented.  This is usually the result of calling `frame.insert` many times, which has poor performance.  Consider joining all columns at once using pd.concat(axis=1) instead. To get a de-fragmented frame, use `newframe = frame.copy()`\n",
      "  dfpowers[col] = dfpowers['Powers'].str.contains(col)\n",
      "C:\\Users\\Ray\\AppData\\Local\\Temp\\ipykernel_2480\\1147978363.py:2: PerformanceWarning: DataFrame is highly fragmented.  This is usually the result of calling `frame.insert` many times, which has poor performance.  Consider joining all columns at once using pd.concat(axis=1) instead. To get a de-fragmented frame, use `newframe = frame.copy()`\n",
      "  dfpowers[col] = dfpowers['Powers'].str.contains(col)\n",
      "C:\\Users\\Ray\\AppData\\Local\\Temp\\ipykernel_2480\\1147978363.py:2: PerformanceWarning: DataFrame is highly fragmented.  This is usually the result of calling `frame.insert` many times, which has poor performance.  Consider joining all columns at once using pd.concat(axis=1) instead. To get a de-fragmented frame, use `newframe = frame.copy()`\n",
      "  dfpowers[col] = dfpowers['Powers'].str.contains(col)\n",
      "C:\\Users\\Ray\\AppData\\Local\\Temp\\ipykernel_2480\\1147978363.py:2: PerformanceWarning: DataFrame is highly fragmented.  This is usually the result of calling `frame.insert` many times, which has poor performance.  Consider joining all columns at once using pd.concat(axis=1) instead. To get a de-fragmented frame, use `newframe = frame.copy()`\n",
      "  dfpowers[col] = dfpowers['Powers'].str.contains(col)\n",
      "C:\\Users\\Ray\\AppData\\Local\\Temp\\ipykernel_2480\\1147978363.py:2: PerformanceWarning: DataFrame is highly fragmented.  This is usually the result of calling `frame.insert` many times, which has poor performance.  Consider joining all columns at once using pd.concat(axis=1) instead. To get a de-fragmented frame, use `newframe = frame.copy()`\n",
      "  dfpowers[col] = dfpowers['Powers'].str.contains(col)\n",
      "C:\\Users\\Ray\\AppData\\Local\\Temp\\ipykernel_2480\\1147978363.py:2: PerformanceWarning: DataFrame is highly fragmented.  This is usually the result of calling `frame.insert` many times, which has poor performance.  Consider joining all columns at once using pd.concat(axis=1) instead. To get a de-fragmented frame, use `newframe = frame.copy()`\n",
      "  dfpowers[col] = dfpowers['Powers'].str.contains(col)\n",
      "C:\\Users\\Ray\\AppData\\Local\\Temp\\ipykernel_2480\\1147978363.py:2: PerformanceWarning: DataFrame is highly fragmented.  This is usually the result of calling `frame.insert` many times, which has poor performance.  Consider joining all columns at once using pd.concat(axis=1) instead. To get a de-fragmented frame, use `newframe = frame.copy()`\n",
      "  dfpowers[col] = dfpowers['Powers'].str.contains(col)\n",
      "C:\\Users\\Ray\\AppData\\Local\\Temp\\ipykernel_2480\\1147978363.py:2: PerformanceWarning: DataFrame is highly fragmented.  This is usually the result of calling `frame.insert` many times, which has poor performance.  Consider joining all columns at once using pd.concat(axis=1) instead. To get a de-fragmented frame, use `newframe = frame.copy()`\n",
      "  dfpowers[col] = dfpowers['Powers'].str.contains(col)\n",
      "C:\\Users\\Ray\\AppData\\Local\\Temp\\ipykernel_2480\\1147978363.py:2: PerformanceWarning: DataFrame is highly fragmented.  This is usually the result of calling `frame.insert` many times, which has poor performance.  Consider joining all columns at once using pd.concat(axis=1) instead. To get a de-fragmented frame, use `newframe = frame.copy()`\n",
      "  dfpowers[col] = dfpowers['Powers'].str.contains(col)\n",
      "C:\\Users\\Ray\\AppData\\Local\\Temp\\ipykernel_2480\\1147978363.py:2: PerformanceWarning: DataFrame is highly fragmented.  This is usually the result of calling `frame.insert` many times, which has poor performance.  Consider joining all columns at once using pd.concat(axis=1) instead. To get a de-fragmented frame, use `newframe = frame.copy()`\n",
      "  dfpowers[col] = dfpowers['Powers'].str.contains(col)\n",
      "C:\\Users\\Ray\\AppData\\Local\\Temp\\ipykernel_2480\\1147978363.py:2: PerformanceWarning: DataFrame is highly fragmented.  This is usually the result of calling `frame.insert` many times, which has poor performance.  Consider joining all columns at once using pd.concat(axis=1) instead. To get a de-fragmented frame, use `newframe = frame.copy()`\n",
      "  dfpowers[col] = dfpowers['Powers'].str.contains(col)\n",
      "C:\\Users\\Ray\\AppData\\Local\\Temp\\ipykernel_2480\\1147978363.py:2: PerformanceWarning: DataFrame is highly fragmented.  This is usually the result of calling `frame.insert` many times, which has poor performance.  Consider joining all columns at once using pd.concat(axis=1) instead. To get a de-fragmented frame, use `newframe = frame.copy()`\n",
      "  dfpowers[col] = dfpowers['Powers'].str.contains(col)\n",
      "C:\\Users\\Ray\\AppData\\Local\\Temp\\ipykernel_2480\\1147978363.py:2: PerformanceWarning: DataFrame is highly fragmented.  This is usually the result of calling `frame.insert` many times, which has poor performance.  Consider joining all columns at once using pd.concat(axis=1) instead. To get a de-fragmented frame, use `newframe = frame.copy()`\n",
      "  dfpowers[col] = dfpowers['Powers'].str.contains(col)\n",
      "C:\\Users\\Ray\\AppData\\Local\\Temp\\ipykernel_2480\\1147978363.py:2: PerformanceWarning: DataFrame is highly fragmented.  This is usually the result of calling `frame.insert` many times, which has poor performance.  Consider joining all columns at once using pd.concat(axis=1) instead. To get a de-fragmented frame, use `newframe = frame.copy()`\n",
      "  dfpowers[col] = dfpowers['Powers'].str.contains(col)\n",
      "C:\\Users\\Ray\\AppData\\Local\\Temp\\ipykernel_2480\\1147978363.py:2: PerformanceWarning: DataFrame is highly fragmented.  This is usually the result of calling `frame.insert` many times, which has poor performance.  Consider joining all columns at once using pd.concat(axis=1) instead. To get a de-fragmented frame, use `newframe = frame.copy()`\n",
      "  dfpowers[col] = dfpowers['Powers'].str.contains(col)\n",
      "C:\\Users\\Ray\\AppData\\Local\\Temp\\ipykernel_2480\\1147978363.py:2: PerformanceWarning: DataFrame is highly fragmented.  This is usually the result of calling `frame.insert` many times, which has poor performance.  Consider joining all columns at once using pd.concat(axis=1) instead. To get a de-fragmented frame, use `newframe = frame.copy()`\n",
      "  dfpowers[col] = dfpowers['Powers'].str.contains(col)\n",
      "C:\\Users\\Ray\\AppData\\Local\\Temp\\ipykernel_2480\\1147978363.py:2: PerformanceWarning: DataFrame is highly fragmented.  This is usually the result of calling `frame.insert` many times, which has poor performance.  Consider joining all columns at once using pd.concat(axis=1) instead. To get a de-fragmented frame, use `newframe = frame.copy()`\n",
      "  dfpowers[col] = dfpowers['Powers'].str.contains(col)\n",
      "C:\\Users\\Ray\\AppData\\Local\\Temp\\ipykernel_2480\\1147978363.py:2: PerformanceWarning: DataFrame is highly fragmented.  This is usually the result of calling `frame.insert` many times, which has poor performance.  Consider joining all columns at once using pd.concat(axis=1) instead. To get a de-fragmented frame, use `newframe = frame.copy()`\n",
      "  dfpowers[col] = dfpowers['Powers'].str.contains(col)\n",
      "C:\\Users\\Ray\\AppData\\Local\\Temp\\ipykernel_2480\\1147978363.py:2: PerformanceWarning: DataFrame is highly fragmented.  This is usually the result of calling `frame.insert` many times, which has poor performance.  Consider joining all columns at once using pd.concat(axis=1) instead. To get a de-fragmented frame, use `newframe = frame.copy()`\n",
      "  dfpowers[col] = dfpowers['Powers'].str.contains(col)\n",
      "C:\\Users\\Ray\\AppData\\Local\\Temp\\ipykernel_2480\\1147978363.py:2: PerformanceWarning: DataFrame is highly fragmented.  This is usually the result of calling `frame.insert` many times, which has poor performance.  Consider joining all columns at once using pd.concat(axis=1) instead. To get a de-fragmented frame, use `newframe = frame.copy()`\n",
      "  dfpowers[col] = dfpowers['Powers'].str.contains(col)\n",
      "C:\\Users\\Ray\\AppData\\Local\\Temp\\ipykernel_2480\\1147978363.py:2: PerformanceWarning: DataFrame is highly fragmented.  This is usually the result of calling `frame.insert` many times, which has poor performance.  Consider joining all columns at once using pd.concat(axis=1) instead. To get a de-fragmented frame, use `newframe = frame.copy()`\n",
      "  dfpowers[col] = dfpowers['Powers'].str.contains(col)\n",
      "C:\\Users\\Ray\\AppData\\Local\\Temp\\ipykernel_2480\\1147978363.py:2: PerformanceWarning: DataFrame is highly fragmented.  This is usually the result of calling `frame.insert` many times, which has poor performance.  Consider joining all columns at once using pd.concat(axis=1) instead. To get a de-fragmented frame, use `newframe = frame.copy()`\n",
      "  dfpowers[col] = dfpowers['Powers'].str.contains(col)\n",
      "C:\\Users\\Ray\\AppData\\Local\\Temp\\ipykernel_2480\\1147978363.py:2: PerformanceWarning: DataFrame is highly fragmented.  This is usually the result of calling `frame.insert` many times, which has poor performance.  Consider joining all columns at once using pd.concat(axis=1) instead. To get a de-fragmented frame, use `newframe = frame.copy()`\n",
      "  dfpowers[col] = dfpowers['Powers'].str.contains(col)\n",
      "C:\\Users\\Ray\\AppData\\Local\\Temp\\ipykernel_2480\\1147978363.py:2: PerformanceWarning: DataFrame is highly fragmented.  This is usually the result of calling `frame.insert` many times, which has poor performance.  Consider joining all columns at once using pd.concat(axis=1) instead. To get a de-fragmented frame, use `newframe = frame.copy()`\n",
      "  dfpowers[col] = dfpowers['Powers'].str.contains(col)\n",
      "C:\\Users\\Ray\\AppData\\Local\\Temp\\ipykernel_2480\\1147978363.py:2: PerformanceWarning: DataFrame is highly fragmented.  This is usually the result of calling `frame.insert` many times, which has poor performance.  Consider joining all columns at once using pd.concat(axis=1) instead. To get a de-fragmented frame, use `newframe = frame.copy()`\n",
      "  dfpowers[col] = dfpowers['Powers'].str.contains(col)\n",
      "C:\\Users\\Ray\\AppData\\Local\\Temp\\ipykernel_2480\\1147978363.py:2: PerformanceWarning: DataFrame is highly fragmented.  This is usually the result of calling `frame.insert` many times, which has poor performance.  Consider joining all columns at once using pd.concat(axis=1) instead. To get a de-fragmented frame, use `newframe = frame.copy()`\n",
      "  dfpowers[col] = dfpowers['Powers'].str.contains(col)\n",
      "C:\\Users\\Ray\\AppData\\Local\\Temp\\ipykernel_2480\\1147978363.py:2: PerformanceWarning: DataFrame is highly fragmented.  This is usually the result of calling `frame.insert` many times, which has poor performance.  Consider joining all columns at once using pd.concat(axis=1) instead. To get a de-fragmented frame, use `newframe = frame.copy()`\n",
      "  dfpowers[col] = dfpowers['Powers'].str.contains(col)\n",
      "C:\\Users\\Ray\\AppData\\Local\\Temp\\ipykernel_2480\\1147978363.py:2: PerformanceWarning: DataFrame is highly fragmented.  This is usually the result of calling `frame.insert` many times, which has poor performance.  Consider joining all columns at once using pd.concat(axis=1) instead. To get a de-fragmented frame, use `newframe = frame.copy()`\n",
      "  dfpowers[col] = dfpowers['Powers'].str.contains(col)\n",
      "C:\\Users\\Ray\\AppData\\Local\\Temp\\ipykernel_2480\\1147978363.py:2: PerformanceWarning: DataFrame is highly fragmented.  This is usually the result of calling `frame.insert` many times, which has poor performance.  Consider joining all columns at once using pd.concat(axis=1) instead. To get a de-fragmented frame, use `newframe = frame.copy()`\n",
      "  dfpowers[col] = dfpowers['Powers'].str.contains(col)\n",
      "C:\\Users\\Ray\\AppData\\Local\\Temp\\ipykernel_2480\\1147978363.py:2: PerformanceWarning: DataFrame is highly fragmented.  This is usually the result of calling `frame.insert` many times, which has poor performance.  Consider joining all columns at once using pd.concat(axis=1) instead. To get a de-fragmented frame, use `newframe = frame.copy()`\n",
      "  dfpowers[col] = dfpowers['Powers'].str.contains(col)\n",
      "C:\\Users\\Ray\\AppData\\Local\\Temp\\ipykernel_2480\\1147978363.py:2: PerformanceWarning: DataFrame is highly fragmented.  This is usually the result of calling `frame.insert` many times, which has poor performance.  Consider joining all columns at once using pd.concat(axis=1) instead. To get a de-fragmented frame, use `newframe = frame.copy()`\n",
      "  dfpowers[col] = dfpowers['Powers'].str.contains(col)\n",
      "C:\\Users\\Ray\\AppData\\Local\\Temp\\ipykernel_2480\\1147978363.py:2: PerformanceWarning: DataFrame is highly fragmented.  This is usually the result of calling `frame.insert` many times, which has poor performance.  Consider joining all columns at once using pd.concat(axis=1) instead. To get a de-fragmented frame, use `newframe = frame.copy()`\n",
      "  dfpowers[col] = dfpowers['Powers'].str.contains(col)\n",
      "C:\\Users\\Ray\\AppData\\Local\\Temp\\ipykernel_2480\\1147978363.py:2: PerformanceWarning: DataFrame is highly fragmented.  This is usually the result of calling `frame.insert` many times, which has poor performance.  Consider joining all columns at once using pd.concat(axis=1) instead. To get a de-fragmented frame, use `newframe = frame.copy()`\n",
      "  dfpowers[col] = dfpowers['Powers'].str.contains(col)\n",
      "C:\\Users\\Ray\\AppData\\Local\\Temp\\ipykernel_2480\\1147978363.py:2: PerformanceWarning: DataFrame is highly fragmented.  This is usually the result of calling `frame.insert` many times, which has poor performance.  Consider joining all columns at once using pd.concat(axis=1) instead. To get a de-fragmented frame, use `newframe = frame.copy()`\n",
      "  dfpowers[col] = dfpowers['Powers'].str.contains(col)\n",
      "C:\\Users\\Ray\\AppData\\Local\\Temp\\ipykernel_2480\\1147978363.py:2: PerformanceWarning: DataFrame is highly fragmented.  This is usually the result of calling `frame.insert` many times, which has poor performance.  Consider joining all columns at once using pd.concat(axis=1) instead. To get a de-fragmented frame, use `newframe = frame.copy()`\n",
      "  dfpowers[col] = dfpowers['Powers'].str.contains(col)\n",
      "C:\\Users\\Ray\\AppData\\Local\\Temp\\ipykernel_2480\\1147978363.py:2: PerformanceWarning: DataFrame is highly fragmented.  This is usually the result of calling `frame.insert` many times, which has poor performance.  Consider joining all columns at once using pd.concat(axis=1) instead. To get a de-fragmented frame, use `newframe = frame.copy()`\n",
      "  dfpowers[col] = dfpowers['Powers'].str.contains(col)\n",
      "C:\\Users\\Ray\\AppData\\Local\\Temp\\ipykernel_2480\\1147978363.py:2: PerformanceWarning: DataFrame is highly fragmented.  This is usually the result of calling `frame.insert` many times, which has poor performance.  Consider joining all columns at once using pd.concat(axis=1) instead. To get a de-fragmented frame, use `newframe = frame.copy()`\n",
      "  dfpowers[col] = dfpowers['Powers'].str.contains(col)\n",
      "C:\\Users\\Ray\\AppData\\Local\\Temp\\ipykernel_2480\\1147978363.py:2: PerformanceWarning: DataFrame is highly fragmented.  This is usually the result of calling `frame.insert` many times, which has poor performance.  Consider joining all columns at once using pd.concat(axis=1) instead. To get a de-fragmented frame, use `newframe = frame.copy()`\n",
      "  dfpowers[col] = dfpowers['Powers'].str.contains(col)\n",
      "C:\\Users\\Ray\\AppData\\Local\\Temp\\ipykernel_2480\\1147978363.py:2: PerformanceWarning: DataFrame is highly fragmented.  This is usually the result of calling `frame.insert` many times, which has poor performance.  Consider joining all columns at once using pd.concat(axis=1) instead. To get a de-fragmented frame, use `newframe = frame.copy()`\n",
      "  dfpowers[col] = dfpowers['Powers'].str.contains(col)\n",
      "C:\\Users\\Ray\\AppData\\Local\\Temp\\ipykernel_2480\\1147978363.py:2: PerformanceWarning: DataFrame is highly fragmented.  This is usually the result of calling `frame.insert` many times, which has poor performance.  Consider joining all columns at once using pd.concat(axis=1) instead. To get a de-fragmented frame, use `newframe = frame.copy()`\n",
      "  dfpowers[col] = dfpowers['Powers'].str.contains(col)\n",
      "C:\\Users\\Ray\\AppData\\Local\\Temp\\ipykernel_2480\\1147978363.py:2: PerformanceWarning: DataFrame is highly fragmented.  This is usually the result of calling `frame.insert` many times, which has poor performance.  Consider joining all columns at once using pd.concat(axis=1) instead. To get a de-fragmented frame, use `newframe = frame.copy()`\n",
      "  dfpowers[col] = dfpowers['Powers'].str.contains(col)\n",
      "C:\\Users\\Ray\\AppData\\Local\\Temp\\ipykernel_2480\\1147978363.py:2: PerformanceWarning: DataFrame is highly fragmented.  This is usually the result of calling `frame.insert` many times, which has poor performance.  Consider joining all columns at once using pd.concat(axis=1) instead. To get a de-fragmented frame, use `newframe = frame.copy()`\n",
      "  dfpowers[col] = dfpowers['Powers'].str.contains(col)\n",
      "C:\\Users\\Ray\\AppData\\Local\\Temp\\ipykernel_2480\\1147978363.py:2: PerformanceWarning: DataFrame is highly fragmented.  This is usually the result of calling `frame.insert` many times, which has poor performance.  Consider joining all columns at once using pd.concat(axis=1) instead. To get a de-fragmented frame, use `newframe = frame.copy()`\n",
      "  dfpowers[col] = dfpowers['Powers'].str.contains(col)\n",
      "C:\\Users\\Ray\\AppData\\Local\\Temp\\ipykernel_2480\\1147978363.py:2: PerformanceWarning: DataFrame is highly fragmented.  This is usually the result of calling `frame.insert` many times, which has poor performance.  Consider joining all columns at once using pd.concat(axis=1) instead. To get a de-fragmented frame, use `newframe = frame.copy()`\n",
      "  dfpowers[col] = dfpowers['Powers'].str.contains(col)\n",
      "C:\\Users\\Ray\\AppData\\Local\\Temp\\ipykernel_2480\\1147978363.py:2: PerformanceWarning: DataFrame is highly fragmented.  This is usually the result of calling `frame.insert` many times, which has poor performance.  Consider joining all columns at once using pd.concat(axis=1) instead. To get a de-fragmented frame, use `newframe = frame.copy()`\n",
      "  dfpowers[col] = dfpowers['Powers'].str.contains(col)\n",
      "C:\\Users\\Ray\\AppData\\Local\\Temp\\ipykernel_2480\\1147978363.py:2: PerformanceWarning: DataFrame is highly fragmented.  This is usually the result of calling `frame.insert` many times, which has poor performance.  Consider joining all columns at once using pd.concat(axis=1) instead. To get a de-fragmented frame, use `newframe = frame.copy()`\n",
      "  dfpowers[col] = dfpowers['Powers'].str.contains(col)\n",
      "C:\\Users\\Ray\\AppData\\Local\\Temp\\ipykernel_2480\\1147978363.py:2: PerformanceWarning: DataFrame is highly fragmented.  This is usually the result of calling `frame.insert` many times, which has poor performance.  Consider joining all columns at once using pd.concat(axis=1) instead. To get a de-fragmented frame, use `newframe = frame.copy()`\n",
      "  dfpowers[col] = dfpowers['Powers'].str.contains(col)\n",
      "C:\\Users\\Ray\\AppData\\Local\\Temp\\ipykernel_2480\\1147978363.py:2: PerformanceWarning: DataFrame is highly fragmented.  This is usually the result of calling `frame.insert` many times, which has poor performance.  Consider joining all columns at once using pd.concat(axis=1) instead. To get a de-fragmented frame, use `newframe = frame.copy()`\n",
      "  dfpowers[col] = dfpowers['Powers'].str.contains(col)\n",
      "C:\\Users\\Ray\\AppData\\Local\\Temp\\ipykernel_2480\\1147978363.py:2: PerformanceWarning: DataFrame is highly fragmented.  This is usually the result of calling `frame.insert` many times, which has poor performance.  Consider joining all columns at once using pd.concat(axis=1) instead. To get a de-fragmented frame, use `newframe = frame.copy()`\n",
      "  dfpowers[col] = dfpowers['Powers'].str.contains(col)\n",
      "C:\\Users\\Ray\\AppData\\Local\\Temp\\ipykernel_2480\\1147978363.py:2: PerformanceWarning: DataFrame is highly fragmented.  This is usually the result of calling `frame.insert` many times, which has poor performance.  Consider joining all columns at once using pd.concat(axis=1) instead. To get a de-fragmented frame, use `newframe = frame.copy()`\n",
      "  dfpowers[col] = dfpowers['Powers'].str.contains(col)\n",
      "C:\\Users\\Ray\\AppData\\Local\\Temp\\ipykernel_2480\\1147978363.py:2: PerformanceWarning: DataFrame is highly fragmented.  This is usually the result of calling `frame.insert` many times, which has poor performance.  Consider joining all columns at once using pd.concat(axis=1) instead. To get a de-fragmented frame, use `newframe = frame.copy()`\n",
      "  dfpowers[col] = dfpowers['Powers'].str.contains(col)\n",
      "C:\\Users\\Ray\\AppData\\Local\\Temp\\ipykernel_2480\\1147978363.py:2: PerformanceWarning: DataFrame is highly fragmented.  This is usually the result of calling `frame.insert` many times, which has poor performance.  Consider joining all columns at once using pd.concat(axis=1) instead. To get a de-fragmented frame, use `newframe = frame.copy()`\n",
      "  dfpowers[col] = dfpowers['Powers'].str.contains(col)\n",
      "C:\\Users\\Ray\\AppData\\Local\\Temp\\ipykernel_2480\\1147978363.py:2: PerformanceWarning: DataFrame is highly fragmented.  This is usually the result of calling `frame.insert` many times, which has poor performance.  Consider joining all columns at once using pd.concat(axis=1) instead. To get a de-fragmented frame, use `newframe = frame.copy()`\n",
      "  dfpowers[col] = dfpowers['Powers'].str.contains(col)\n",
      "C:\\Users\\Ray\\AppData\\Local\\Temp\\ipykernel_2480\\1147978363.py:2: PerformanceWarning: DataFrame is highly fragmented.  This is usually the result of calling `frame.insert` many times, which has poor performance.  Consider joining all columns at once using pd.concat(axis=1) instead. To get a de-fragmented frame, use `newframe = frame.copy()`\n",
      "  dfpowers[col] = dfpowers['Powers'].str.contains(col)\n",
      "C:\\Users\\Ray\\AppData\\Local\\Temp\\ipykernel_2480\\1147978363.py:2: PerformanceWarning: DataFrame is highly fragmented.  This is usually the result of calling `frame.insert` many times, which has poor performance.  Consider joining all columns at once using pd.concat(axis=1) instead. To get a de-fragmented frame, use `newframe = frame.copy()`\n",
      "  dfpowers[col] = dfpowers['Powers'].str.contains(col)\n",
      "C:\\Users\\Ray\\AppData\\Local\\Temp\\ipykernel_2480\\1147978363.py:2: PerformanceWarning: DataFrame is highly fragmented.  This is usually the result of calling `frame.insert` many times, which has poor performance.  Consider joining all columns at once using pd.concat(axis=1) instead. To get a de-fragmented frame, use `newframe = frame.copy()`\n",
      "  dfpowers[col] = dfpowers['Powers'].str.contains(col)\n",
      "C:\\Users\\Ray\\AppData\\Local\\Temp\\ipykernel_2480\\1147978363.py:2: PerformanceWarning: DataFrame is highly fragmented.  This is usually the result of calling `frame.insert` many times, which has poor performance.  Consider joining all columns at once using pd.concat(axis=1) instead. To get a de-fragmented frame, use `newframe = frame.copy()`\n",
      "  dfpowers[col] = dfpowers['Powers'].str.contains(col)\n",
      "C:\\Users\\Ray\\AppData\\Local\\Temp\\ipykernel_2480\\1147978363.py:2: PerformanceWarning: DataFrame is highly fragmented.  This is usually the result of calling `frame.insert` many times, which has poor performance.  Consider joining all columns at once using pd.concat(axis=1) instead. To get a de-fragmented frame, use `newframe = frame.copy()`\n",
      "  dfpowers[col] = dfpowers['Powers'].str.contains(col)\n"
     ]
    },
    {
     "data": {
      "text/html": [
       "<div>\n",
       "<style scoped>\n",
       "    .dataframe tbody tr th:only-of-type {\n",
       "        vertical-align: middle;\n",
       "    }\n",
       "\n",
       "    .dataframe tbody tr th {\n",
       "        vertical-align: top;\n",
       "    }\n",
       "\n",
       "    .dataframe thead th {\n",
       "        text-align: right;\n",
       "    }\n",
       "</style>\n",
       "<table border=\"1\" class=\"dataframe\">\n",
       "  <thead>\n",
       "    <tr style=\"text-align: right;\">\n",
       "      <th></th>\n",
       "      <th>hero_names</th>\n",
       "      <th>Powers</th>\n",
       "      <th>Accelerated Healing</th>\n",
       "      <th>Adaptation</th>\n",
       "      <th>Agility</th>\n",
       "      <th>Animal Attributes</th>\n",
       "      <th>Animal Control</th>\n",
       "      <th>Animal Oriented Powers</th>\n",
       "      <th>Animation</th>\n",
       "      <th>Anti-Gravity</th>\n",
       "      <th>...</th>\n",
       "      <th>Vision - Thermal</th>\n",
       "      <th>Vision - X-Ray</th>\n",
       "      <th>Vitakinesis</th>\n",
       "      <th>Wallcrawling</th>\n",
       "      <th>Water Control</th>\n",
       "      <th>Weapon-based Powers</th>\n",
       "      <th>Weapons Master</th>\n",
       "      <th>Weather Control</th>\n",
       "      <th>Web Creation</th>\n",
       "      <th>Wind Control</th>\n",
       "    </tr>\n",
       "  </thead>\n",
       "  <tbody>\n",
       "    <tr>\n",
       "      <th>0</th>\n",
       "      <td>3-D Man</td>\n",
       "      <td>Agility,Super Strength,Stamina,Super Speed</td>\n",
       "      <td>False</td>\n",
       "      <td>False</td>\n",
       "      <td>True</td>\n",
       "      <td>False</td>\n",
       "      <td>False</td>\n",
       "      <td>False</td>\n",
       "      <td>False</td>\n",
       "      <td>False</td>\n",
       "      <td>...</td>\n",
       "      <td>False</td>\n",
       "      <td>False</td>\n",
       "      <td>False</td>\n",
       "      <td>False</td>\n",
       "      <td>False</td>\n",
       "      <td>False</td>\n",
       "      <td>False</td>\n",
       "      <td>False</td>\n",
       "      <td>False</td>\n",
       "      <td>False</td>\n",
       "    </tr>\n",
       "    <tr>\n",
       "      <th>1</th>\n",
       "      <td>A-Bomb</td>\n",
       "      <td>Accelerated Healing,Durability,Longevity,Super...</td>\n",
       "      <td>True</td>\n",
       "      <td>False</td>\n",
       "      <td>False</td>\n",
       "      <td>False</td>\n",
       "      <td>False</td>\n",
       "      <td>False</td>\n",
       "      <td>False</td>\n",
       "      <td>False</td>\n",
       "      <td>...</td>\n",
       "      <td>False</td>\n",
       "      <td>False</td>\n",
       "      <td>False</td>\n",
       "      <td>False</td>\n",
       "      <td>False</td>\n",
       "      <td>False</td>\n",
       "      <td>False</td>\n",
       "      <td>False</td>\n",
       "      <td>False</td>\n",
       "      <td>False</td>\n",
       "    </tr>\n",
       "    <tr>\n",
       "      <th>2</th>\n",
       "      <td>Abe Sapien</td>\n",
       "      <td>Agility,Accelerated Healing,Cold Resistance,Du...</td>\n",
       "      <td>True</td>\n",
       "      <td>False</td>\n",
       "      <td>True</td>\n",
       "      <td>False</td>\n",
       "      <td>False</td>\n",
       "      <td>False</td>\n",
       "      <td>False</td>\n",
       "      <td>False</td>\n",
       "      <td>...</td>\n",
       "      <td>False</td>\n",
       "      <td>False</td>\n",
       "      <td>False</td>\n",
       "      <td>False</td>\n",
       "      <td>False</td>\n",
       "      <td>False</td>\n",
       "      <td>True</td>\n",
       "      <td>False</td>\n",
       "      <td>False</td>\n",
       "      <td>False</td>\n",
       "    </tr>\n",
       "    <tr>\n",
       "      <th>3</th>\n",
       "      <td>Abin Sur</td>\n",
       "      <td>Lantern Power Ring</td>\n",
       "      <td>False</td>\n",
       "      <td>False</td>\n",
       "      <td>False</td>\n",
       "      <td>False</td>\n",
       "      <td>False</td>\n",
       "      <td>False</td>\n",
       "      <td>False</td>\n",
       "      <td>False</td>\n",
       "      <td>...</td>\n",
       "      <td>False</td>\n",
       "      <td>False</td>\n",
       "      <td>False</td>\n",
       "      <td>False</td>\n",
       "      <td>False</td>\n",
       "      <td>False</td>\n",
       "      <td>False</td>\n",
       "      <td>False</td>\n",
       "      <td>False</td>\n",
       "      <td>False</td>\n",
       "    </tr>\n",
       "    <tr>\n",
       "      <th>4</th>\n",
       "      <td>Abomination</td>\n",
       "      <td>Accelerated Healing,Intelligence,Super Strengt...</td>\n",
       "      <td>True</td>\n",
       "      <td>False</td>\n",
       "      <td>False</td>\n",
       "      <td>False</td>\n",
       "      <td>False</td>\n",
       "      <td>False</td>\n",
       "      <td>True</td>\n",
       "      <td>False</td>\n",
       "      <td>...</td>\n",
       "      <td>False</td>\n",
       "      <td>False</td>\n",
       "      <td>False</td>\n",
       "      <td>False</td>\n",
       "      <td>False</td>\n",
       "      <td>False</td>\n",
       "      <td>False</td>\n",
       "      <td>False</td>\n",
       "      <td>False</td>\n",
       "      <td>False</td>\n",
       "    </tr>\n",
       "  </tbody>\n",
       "</table>\n",
       "<p>5 rows × 170 columns</p>\n",
       "</div>"
      ],
      "text/plain": [
       "    hero_names                                             Powers  \\\n",
       "0      3-D Man         Agility,Super Strength,Stamina,Super Speed   \n",
       "1       A-Bomb  Accelerated Healing,Durability,Longevity,Super...   \n",
       "2   Abe Sapien  Agility,Accelerated Healing,Cold Resistance,Du...   \n",
       "3     Abin Sur                                 Lantern Power Ring   \n",
       "4  Abomination  Accelerated Healing,Intelligence,Super Strengt...   \n",
       "\n",
       "   Accelerated Healing  Adaptation  Agility  Animal Attributes  \\\n",
       "0                False       False     True              False   \n",
       "1                 True       False    False              False   \n",
       "2                 True       False     True              False   \n",
       "3                False       False    False              False   \n",
       "4                 True       False    False              False   \n",
       "\n",
       "   Animal Control  Animal Oriented Powers  Animation  Anti-Gravity  ...  \\\n",
       "0           False                   False      False         False  ...   \n",
       "1           False                   False      False         False  ...   \n",
       "2           False                   False      False         False  ...   \n",
       "3           False                   False      False         False  ...   \n",
       "4           False                   False       True         False  ...   \n",
       "\n",
       "   Vision - Thermal  Vision - X-Ray  Vitakinesis  Wallcrawling  Water Control  \\\n",
       "0             False           False        False         False          False   \n",
       "1             False           False        False         False          False   \n",
       "2             False           False        False         False          False   \n",
       "3             False           False        False         False          False   \n",
       "4             False           False        False         False          False   \n",
       "\n",
       "   Weapon-based Powers  Weapons Master  Weather Control  Web Creation  \\\n",
       "0                False           False            False         False   \n",
       "1                False           False            False         False   \n",
       "2                False            True            False         False   \n",
       "3                False           False            False         False   \n",
       "4                False           False            False         False   \n",
       "\n",
       "   Wind Control  \n",
       "0         False  \n",
       "1         False  \n",
       "2         False  \n",
       "3         False  \n",
       "4         False  \n",
       "\n",
       "[5 rows x 170 columns]"
      ]
     },
     "execution_count": 27,
     "metadata": {},
     "output_type": "execute_result"
    }
   ],
   "source": [
    "for col in powertest:\n",
    "    dfpowers[col] = dfpowers['Powers'].str.contains(col)\n",
    "\n",
    "dfpowers.head()"
   ]
  },
  {
   "cell_type": "markdown",
   "id": "f9b16c32-1639-4aa0-a361-c3c2fc70f1bb",
   "metadata": {},
   "source": [
    "## Join"
   ]
  },
  {
   "cell_type": "code",
   "execution_count": 28,
   "id": "aae3900e-7c8b-4134-9a4a-f9b01f7cf944",
   "metadata": {},
   "outputs": [
    {
     "name": "stdout",
     "output_type": "stream",
     "text": [
      "<class 'pandas.core.frame.DataFrame'>\n",
      "Int64Index: 463 entries, 0 to 462\n",
      "Columns: 180 entries, Gender to Wind Control\n",
      "dtypes: bool(168), float64(2), object(10)\n",
      "memory usage: 123.0+ KB\n"
     ]
    }
   ],
   "source": [
    "joined = pd.merge(dfinfo, dfpowers, left_on = 'Hero', right_on = 'hero_names', how = 'inner')\n",
    "joined.info()"
   ]
  },
  {
   "cell_type": "code",
   "execution_count": 29,
   "id": "77461a69-bfdf-4135-bb9d-d43e62eb8bce",
   "metadata": {},
   "outputs": [
    {
     "data": {
      "text/html": [
       "<div>\n",
       "<style scoped>\n",
       "    .dataframe tbody tr th:only-of-type {\n",
       "        vertical-align: middle;\n",
       "    }\n",
       "\n",
       "    .dataframe tbody tr th {\n",
       "        vertical-align: top;\n",
       "    }\n",
       "\n",
       "    .dataframe thead th {\n",
       "        text-align: right;\n",
       "    }\n",
       "</style>\n",
       "<table border=\"1\" class=\"dataframe\">\n",
       "  <thead>\n",
       "    <tr style=\"text-align: right;\">\n",
       "      <th></th>\n",
       "      <th>Gender</th>\n",
       "      <th>Race</th>\n",
       "      <th>Alignment</th>\n",
       "      <th>Hair color</th>\n",
       "      <th>Eye color</th>\n",
       "      <th>Skin color</th>\n",
       "      <th>Hero</th>\n",
       "      <th>Publisher</th>\n",
       "      <th>Height</th>\n",
       "      <th>Weight</th>\n",
       "      <th>...</th>\n",
       "      <th>Vision - Thermal</th>\n",
       "      <th>Vision - X-Ray</th>\n",
       "      <th>Vitakinesis</th>\n",
       "      <th>Wallcrawling</th>\n",
       "      <th>Water Control</th>\n",
       "      <th>Weapon-based Powers</th>\n",
       "      <th>Weapons Master</th>\n",
       "      <th>Weather Control</th>\n",
       "      <th>Web Creation</th>\n",
       "      <th>Wind Control</th>\n",
       "    </tr>\n",
       "  </thead>\n",
       "  <tbody>\n",
       "    <tr>\n",
       "      <th>0</th>\n",
       "      <td>Male</td>\n",
       "      <td>Human</td>\n",
       "      <td>good</td>\n",
       "      <td>No Hair</td>\n",
       "      <td>yellow</td>\n",
       "      <td>Unknown</td>\n",
       "      <td>A-Bomb</td>\n",
       "      <td>Marvel Comics</td>\n",
       "      <td>203.0</td>\n",
       "      <td>441.0</td>\n",
       "      <td>...</td>\n",
       "      <td>False</td>\n",
       "      <td>False</td>\n",
       "      <td>False</td>\n",
       "      <td>False</td>\n",
       "      <td>False</td>\n",
       "      <td>False</td>\n",
       "      <td>False</td>\n",
       "      <td>False</td>\n",
       "      <td>False</td>\n",
       "      <td>False</td>\n",
       "    </tr>\n",
       "    <tr>\n",
       "      <th>1</th>\n",
       "      <td>Male</td>\n",
       "      <td>Icthyo Sapien</td>\n",
       "      <td>good</td>\n",
       "      <td>No Hair</td>\n",
       "      <td>blue</td>\n",
       "      <td>blue</td>\n",
       "      <td>Abe Sapien</td>\n",
       "      <td>Dark Horse Comics</td>\n",
       "      <td>191.0</td>\n",
       "      <td>65.0</td>\n",
       "      <td>...</td>\n",
       "      <td>False</td>\n",
       "      <td>False</td>\n",
       "      <td>False</td>\n",
       "      <td>False</td>\n",
       "      <td>False</td>\n",
       "      <td>False</td>\n",
       "      <td>True</td>\n",
       "      <td>False</td>\n",
       "      <td>False</td>\n",
       "      <td>False</td>\n",
       "    </tr>\n",
       "    <tr>\n",
       "      <th>2</th>\n",
       "      <td>Male</td>\n",
       "      <td>Ungaran</td>\n",
       "      <td>good</td>\n",
       "      <td>No Hair</td>\n",
       "      <td>blue</td>\n",
       "      <td>red</td>\n",
       "      <td>Abin Sur</td>\n",
       "      <td>DC Comics</td>\n",
       "      <td>185.0</td>\n",
       "      <td>90.0</td>\n",
       "      <td>...</td>\n",
       "      <td>False</td>\n",
       "      <td>False</td>\n",
       "      <td>False</td>\n",
       "      <td>False</td>\n",
       "      <td>False</td>\n",
       "      <td>False</td>\n",
       "      <td>False</td>\n",
       "      <td>False</td>\n",
       "      <td>False</td>\n",
       "      <td>False</td>\n",
       "    </tr>\n",
       "    <tr>\n",
       "      <th>3</th>\n",
       "      <td>Male</td>\n",
       "      <td>Human / Radiation</td>\n",
       "      <td>bad</td>\n",
       "      <td>No Hair</td>\n",
       "      <td>green</td>\n",
       "      <td>Unknown</td>\n",
       "      <td>Abomination</td>\n",
       "      <td>Marvel Comics</td>\n",
       "      <td>203.0</td>\n",
       "      <td>441.0</td>\n",
       "      <td>...</td>\n",
       "      <td>False</td>\n",
       "      <td>False</td>\n",
       "      <td>False</td>\n",
       "      <td>False</td>\n",
       "      <td>False</td>\n",
       "      <td>False</td>\n",
       "      <td>False</td>\n",
       "      <td>False</td>\n",
       "      <td>False</td>\n",
       "      <td>False</td>\n",
       "    </tr>\n",
       "    <tr>\n",
       "      <th>4</th>\n",
       "      <td>Male</td>\n",
       "      <td>Human</td>\n",
       "      <td>bad</td>\n",
       "      <td>No Hair</td>\n",
       "      <td>blue</td>\n",
       "      <td>Unknown</td>\n",
       "      <td>Absorbing Man</td>\n",
       "      <td>Marvel Comics</td>\n",
       "      <td>193.0</td>\n",
       "      <td>122.0</td>\n",
       "      <td>...</td>\n",
       "      <td>False</td>\n",
       "      <td>False</td>\n",
       "      <td>False</td>\n",
       "      <td>False</td>\n",
       "      <td>False</td>\n",
       "      <td>False</td>\n",
       "      <td>False</td>\n",
       "      <td>False</td>\n",
       "      <td>False</td>\n",
       "      <td>False</td>\n",
       "    </tr>\n",
       "  </tbody>\n",
       "</table>\n",
       "<p>5 rows × 180 columns</p>\n",
       "</div>"
      ],
      "text/plain": [
       "  Gender               Race Alignment Hair color Eye color Skin color  \\\n",
       "0   Male              Human      good    No Hair    yellow    Unknown   \n",
       "1   Male      Icthyo Sapien      good    No Hair      blue       blue   \n",
       "2   Male            Ungaran      good    No Hair      blue        red   \n",
       "3   Male  Human / Radiation       bad    No Hair     green    Unknown   \n",
       "4   Male              Human       bad    No Hair      blue    Unknown   \n",
       "\n",
       "            Hero          Publisher  Height  Weight  ... Vision - Thermal  \\\n",
       "0         A-Bomb      Marvel Comics   203.0   441.0  ...            False   \n",
       "1     Abe Sapien  Dark Horse Comics   191.0    65.0  ...            False   \n",
       "2       Abin Sur          DC Comics   185.0    90.0  ...            False   \n",
       "3    Abomination      Marvel Comics   203.0   441.0  ...            False   \n",
       "4  Absorbing Man      Marvel Comics   193.0   122.0  ...            False   \n",
       "\n",
       "  Vision - X-Ray  Vitakinesis  Wallcrawling  Water Control  \\\n",
       "0          False        False         False          False   \n",
       "1          False        False         False          False   \n",
       "2          False        False         False          False   \n",
       "3          False        False         False          False   \n",
       "4          False        False         False          False   \n",
       "\n",
       "   Weapon-based Powers  Weapons Master  Weather Control  Web Creation  \\\n",
       "0                False           False            False         False   \n",
       "1                False            True            False         False   \n",
       "2                False           False            False         False   \n",
       "3                False           False            False         False   \n",
       "4                False           False            False         False   \n",
       "\n",
       "   Wind Control  \n",
       "0         False  \n",
       "1         False  \n",
       "2         False  \n",
       "3         False  \n",
       "4         False  \n",
       "\n",
       "[5 rows x 180 columns]"
      ]
     },
     "execution_count": 29,
     "metadata": {},
     "output_type": "execute_result"
    }
   ],
   "source": [
    "joined.head()"
   ]
  },
  {
   "cell_type": "markdown",
   "id": "3324fec0-eaff-4ed7-b46b-22ba64a15b97",
   "metadata": {},
   "source": [
    "# Questions"
   ]
  },
  {
   "cell_type": "markdown",
   "id": "eef25026-e951-4284-9989-12737eee5d1f",
   "metadata": {},
   "source": [
    "## Compare the average weight of super heroes who have Super Speed to those who do not."
   ]
  },
  {
   "cell_type": "code",
   "execution_count": 30,
   "id": "c10aa729-f2be-4152-a1b7-408f963df028",
   "metadata": {},
   "outputs": [
    {
     "data": {
      "text/plain": [
       "Super Speed\n",
       "False    101.773585\n",
       "True     129.404040\n",
       "Name: Weight, dtype: float64"
      ]
     },
     "execution_count": 30,
     "metadata": {},
     "output_type": "execute_result"
    }
   ],
   "source": [
    "joined.groupby('Super Speed')['Weight'].mean()"
   ]
  },
  {
   "cell_type": "markdown",
   "id": "ed5530a6-add2-43e9-abf2-9fdb70c5c82e",
   "metadata": {},
   "source": [
    "The average weight of super heroes with Super Speed is higher, at 129.4 than those without, at 101.8"
   ]
  },
  {
   "cell_type": "markdown",
   "id": "619552dd-6fba-4d9d-a2fe-a08c9f3fb598",
   "metadata": {},
   "source": [
    "## What is the average height of heroes for each publisher?"
   ]
  },
  {
   "cell_type": "code",
   "execution_count": 31,
   "id": "c408d945-6aa1-48d2-b030-680a4889441a",
   "metadata": {},
   "outputs": [
    {
     "data": {
      "text/plain": [
       "Publisher\n",
       "George Lucas         159.600000\n",
       "Shueisha             171.500000\n",
       "Dark Horse Comics    176.909091\n",
       "Unknown              178.000000\n",
       "Team Epic TV         180.750000\n",
       "Star Trek            181.500000\n",
       "DC Comics            181.923913\n",
       "Marvel Comics        191.546128\n",
       "Image Comics         211.000000\n",
       "Name: Height, dtype: float64"
      ]
     },
     "execution_count": 31,
     "metadata": {},
     "output_type": "execute_result"
    }
   ],
   "source": [
    "joined.groupby('Publisher')['Height'].mean().sort_values()"
   ]
  },
  {
   "cell_type": "markdown",
   "id": "e5f687a6-323d-4fc0-a7c1-e89e420ec37c",
   "metadata": {},
   "source": [
    "The average height for each publisher is shown above, in cm. We can see that Image Comics has, on average, the tallest heroes, and George Lucas has the shortest. "
   ]
  }
 ],
 "metadata": {
  "kernelspec": {
   "display_name": "Python (dojo-env)",
   "language": "python",
   "name": "dojo-env"
  },
  "language_info": {
   "codemirror_mode": {
    "name": "ipython",
    "version": 3
   },
   "file_extension": ".py",
   "mimetype": "text/x-python",
   "name": "python",
   "nbconvert_exporter": "python",
   "pygments_lexer": "ipython3",
   "version": "3.9.15"
  },
  "toc-autonumbering": true
 },
 "nbformat": 4,
 "nbformat_minor": 5
}
